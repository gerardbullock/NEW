{
  "cells": [
    {
      "cell_type": "markdown",
      "metadata": {
        "id": "view-in-github",
        "colab_type": "text"
      },
      "source": [
        "<a href=\"https://colab.research.google.com/github/gerardbullock/gb.github.io/blob/main/Flight_Price_Prediction_Machine_Learning.ipynb\" target=\"_parent\"><img src=\"https://colab.research.google.com/assets/colab-badge.svg\" alt=\"Open In Colab\"/></a>"
      ]
    },
    {
      "cell_type": "markdown",
      "source": [
        "# Flight Price Prediction Machine Learning"
      ],
      "metadata": {
        "id": "1Q2k55XdkXEE"
      },
      "id": "1Q2k55XdkXEE"
    },
    {
      "cell_type": "markdown",
      "source": [
        "*   Airline: The name of the airline company is stored in the airline column. It is a categorical feature having 6 different airlines.\n",
        "*  Flight: Flight stores information regarding the plane's flight code. It is a categorical feature.\n",
        "*  Source City: City from which the flight takes off. It is a categorical feature having 6 unique cities.\n",
        "*  Departure Time: This is a derived categorical feature obtained created by grouping time periods into bins. It stores information about the departure time and have 6 unique time labels.\n",
        "*  Stops: A categorical feature with 3 distinct values that stores the number of stops between the source and destination cities.\n",
        "*  Arrival Time: This is a derived categorical feature created by grouping time intervals into bins. It has six distinct time labels and keeps information about the arrival time.\n",
        "*  Destination City: City where the flight will land. It is a categorical feature having 6 unique cities.\n",
        "*  Class: A categorical feature that contains information on seat class; it has two distinct values: Business and Economy.\n",
        "*  Duration: A continuous feature that displays the overall amount of time it takes to travel between cities in hours.\n",
        "*  Days Left: This is a derived characteristic that is calculated by subtracting the trip date by the booking date.\n",
        "*  Price: Target variable stores information of the ticket price."
      ],
      "metadata": {
        "id": "NWzAQXp7mqjI"
      },
      "id": "NWzAQXp7mqjI"
    },
    {
      "cell_type": "markdown",
      "source": [
        "### Load Packages"
      ],
      "metadata": {
        "id": "gUAs7AZJlDfs"
      },
      "id": "gUAs7AZJlDfs"
    },
    {
      "cell_type": "code",
      "execution_count": 2,
      "id": "314f5945",
      "metadata": {
        "id": "314f5945"
      },
      "outputs": [],
      "source": [
        "#importing libraries\n",
        "import pandas as pd\n",
        "import numpy as np\n",
        "import seaborn as sns\n",
        "import matplotlib.pyplot as plt\n",
        "from sklearn.preprocessing import StandardScaler\n",
        "from sklearn.model_selection import train_test_split,GridSearchCV\n",
        "from sklearn.metrics import accuracy_score,confusion_matrix\n",
        "\n",
        "import warnings\n",
        "warnings.filterwarnings('ignore')"
      ]
    },
    {
      "cell_type": "markdown",
      "source": [
        "## Load Dataset"
      ],
      "metadata": {
        "id": "cPHTxZIJk46O"
      },
      "id": "cPHTxZIJk46O"
    },
    {
      "cell_type": "code",
      "execution_count": 4,
      "id": "d87f630f",
      "metadata": {
        "colab": {
          "base_uri": "https://localhost:8080/",
          "height": 112
        },
        "id": "d87f630f",
        "outputId": "bf413797-1b18-4884-f9fa-010e6bcb06d2"
      },
      "outputs": [
        {
          "output_type": "execute_result",
          "data": {
            "text/plain": [
              "     Airline Date_of_Journey    Source Destination                  Route  \\\n",
              "0     IndiGo      24/03/2019  Banglore   New Delhi              BLR → DEL   \n",
              "1  Air India       1/05/2019   Kolkata    Banglore  CCU → IXR → BBI → BLR   \n",
              "\n",
              "  Dep_Time  Arrival_Time Duration Total_Stops Additional_Info  Price  \n",
              "0    22:20  01:10 22 Mar   2h 50m    non-stop         No info   3897  \n",
              "1    05:50         13:15   7h 25m     2 stops         No info   7662  "
            ],
            "text/html": [
              "\n",
              "  <div id=\"df-87d8a8ca-bff7-41d9-865f-10ae2660edd8\" class=\"colab-df-container\">\n",
              "    <div>\n",
              "<style scoped>\n",
              "    .dataframe tbody tr th:only-of-type {\n",
              "        vertical-align: middle;\n",
              "    }\n",
              "\n",
              "    .dataframe tbody tr th {\n",
              "        vertical-align: top;\n",
              "    }\n",
              "\n",
              "    .dataframe thead th {\n",
              "        text-align: right;\n",
              "    }\n",
              "</style>\n",
              "<table border=\"1\" class=\"dataframe\">\n",
              "  <thead>\n",
              "    <tr style=\"text-align: right;\">\n",
              "      <th></th>\n",
              "      <th>Airline</th>\n",
              "      <th>Date_of_Journey</th>\n",
              "      <th>Source</th>\n",
              "      <th>Destination</th>\n",
              "      <th>Route</th>\n",
              "      <th>Dep_Time</th>\n",
              "      <th>Arrival_Time</th>\n",
              "      <th>Duration</th>\n",
              "      <th>Total_Stops</th>\n",
              "      <th>Additional_Info</th>\n",
              "      <th>Price</th>\n",
              "    </tr>\n",
              "  </thead>\n",
              "  <tbody>\n",
              "    <tr>\n",
              "      <th>0</th>\n",
              "      <td>IndiGo</td>\n",
              "      <td>24/03/2019</td>\n",
              "      <td>Banglore</td>\n",
              "      <td>New Delhi</td>\n",
              "      <td>BLR → DEL</td>\n",
              "      <td>22:20</td>\n",
              "      <td>01:10 22 Mar</td>\n",
              "      <td>2h 50m</td>\n",
              "      <td>non-stop</td>\n",
              "      <td>No info</td>\n",
              "      <td>3897</td>\n",
              "    </tr>\n",
              "    <tr>\n",
              "      <th>1</th>\n",
              "      <td>Air India</td>\n",
              "      <td>1/05/2019</td>\n",
              "      <td>Kolkata</td>\n",
              "      <td>Banglore</td>\n",
              "      <td>CCU → IXR → BBI → BLR</td>\n",
              "      <td>05:50</td>\n",
              "      <td>13:15</td>\n",
              "      <td>7h 25m</td>\n",
              "      <td>2 stops</td>\n",
              "      <td>No info</td>\n",
              "      <td>7662</td>\n",
              "    </tr>\n",
              "  </tbody>\n",
              "</table>\n",
              "</div>\n",
              "    <div class=\"colab-df-buttons\">\n",
              "\n",
              "  <div class=\"colab-df-container\">\n",
              "    <button class=\"colab-df-convert\" onclick=\"convertToInteractive('df-87d8a8ca-bff7-41d9-865f-10ae2660edd8')\"\n",
              "            title=\"Convert this dataframe to an interactive table.\"\n",
              "            style=\"display:none;\">\n",
              "\n",
              "  <svg xmlns=\"http://www.w3.org/2000/svg\" height=\"24px\" viewBox=\"0 -960 960 960\">\n",
              "    <path d=\"M120-120v-720h720v720H120Zm60-500h600v-160H180v160Zm220 220h160v-160H400v160Zm0 220h160v-160H400v160ZM180-400h160v-160H180v160Zm440 0h160v-160H620v160ZM180-180h160v-160H180v160Zm440 0h160v-160H620v160Z\"/>\n",
              "  </svg>\n",
              "    </button>\n",
              "\n",
              "  <style>\n",
              "    .colab-df-container {\n",
              "      display:flex;\n",
              "      gap: 12px;\n",
              "    }\n",
              "\n",
              "    .colab-df-convert {\n",
              "      background-color: #E8F0FE;\n",
              "      border: none;\n",
              "      border-radius: 50%;\n",
              "      cursor: pointer;\n",
              "      display: none;\n",
              "      fill: #1967D2;\n",
              "      height: 32px;\n",
              "      padding: 0 0 0 0;\n",
              "      width: 32px;\n",
              "    }\n",
              "\n",
              "    .colab-df-convert:hover {\n",
              "      background-color: #E2EBFA;\n",
              "      box-shadow: 0px 1px 2px rgba(60, 64, 67, 0.3), 0px 1px 3px 1px rgba(60, 64, 67, 0.15);\n",
              "      fill: #174EA6;\n",
              "    }\n",
              "\n",
              "    .colab-df-buttons div {\n",
              "      margin-bottom: 4px;\n",
              "    }\n",
              "\n",
              "    [theme=dark] .colab-df-convert {\n",
              "      background-color: #3B4455;\n",
              "      fill: #D2E3FC;\n",
              "    }\n",
              "\n",
              "    [theme=dark] .colab-df-convert:hover {\n",
              "      background-color: #434B5C;\n",
              "      box-shadow: 0px 1px 3px 1px rgba(0, 0, 0, 0.15);\n",
              "      filter: drop-shadow(0px 1px 2px rgba(0, 0, 0, 0.3));\n",
              "      fill: #FFFFFF;\n",
              "    }\n",
              "  </style>\n",
              "\n",
              "    <script>\n",
              "      const buttonEl =\n",
              "        document.querySelector('#df-87d8a8ca-bff7-41d9-865f-10ae2660edd8 button.colab-df-convert');\n",
              "      buttonEl.style.display =\n",
              "        google.colab.kernel.accessAllowed ? 'block' : 'none';\n",
              "\n",
              "      async function convertToInteractive(key) {\n",
              "        const element = document.querySelector('#df-87d8a8ca-bff7-41d9-865f-10ae2660edd8');\n",
              "        const dataTable =\n",
              "          await google.colab.kernel.invokeFunction('convertToInteractive',\n",
              "                                                    [key], {});\n",
              "        if (!dataTable) return;\n",
              "\n",
              "        const docLinkHtml = 'Like what you see? Visit the ' +\n",
              "          '<a target=\"_blank\" href=https://colab.research.google.com/notebooks/data_table.ipynb>data table notebook</a>'\n",
              "          + ' to learn more about interactive tables.';\n",
              "        element.innerHTML = '';\n",
              "        dataTable['output_type'] = 'display_data';\n",
              "        await google.colab.output.renderOutput(dataTable, element);\n",
              "        const docLink = document.createElement('div');\n",
              "        docLink.innerHTML = docLinkHtml;\n",
              "        element.appendChild(docLink);\n",
              "      }\n",
              "    </script>\n",
              "  </div>\n",
              "\n",
              "\n",
              "<div id=\"df-81a6b2a8-bc14-42cc-8323-f4821ce9013d\">\n",
              "  <button class=\"colab-df-quickchart\" onclick=\"quickchart('df-81a6b2a8-bc14-42cc-8323-f4821ce9013d')\"\n",
              "            title=\"Suggest charts\"\n",
              "            style=\"display:none;\">\n",
              "\n",
              "<svg xmlns=\"http://www.w3.org/2000/svg\" height=\"24px\"viewBox=\"0 0 24 24\"\n",
              "     width=\"24px\">\n",
              "    <g>\n",
              "        <path d=\"M19 3H5c-1.1 0-2 .9-2 2v14c0 1.1.9 2 2 2h14c1.1 0 2-.9 2-2V5c0-1.1-.9-2-2-2zM9 17H7v-7h2v7zm4 0h-2V7h2v10zm4 0h-2v-4h2v4z\"/>\n",
              "    </g>\n",
              "</svg>\n",
              "  </button>\n",
              "\n",
              "<style>\n",
              "  .colab-df-quickchart {\n",
              "      --bg-color: #E8F0FE;\n",
              "      --fill-color: #1967D2;\n",
              "      --hover-bg-color: #E2EBFA;\n",
              "      --hover-fill-color: #174EA6;\n",
              "      --disabled-fill-color: #AAA;\n",
              "      --disabled-bg-color: #DDD;\n",
              "  }\n",
              "\n",
              "  [theme=dark] .colab-df-quickchart {\n",
              "      --bg-color: #3B4455;\n",
              "      --fill-color: #D2E3FC;\n",
              "      --hover-bg-color: #434B5C;\n",
              "      --hover-fill-color: #FFFFFF;\n",
              "      --disabled-bg-color: #3B4455;\n",
              "      --disabled-fill-color: #666;\n",
              "  }\n",
              "\n",
              "  .colab-df-quickchart {\n",
              "    background-color: var(--bg-color);\n",
              "    border: none;\n",
              "    border-radius: 50%;\n",
              "    cursor: pointer;\n",
              "    display: none;\n",
              "    fill: var(--fill-color);\n",
              "    height: 32px;\n",
              "    padding: 0;\n",
              "    width: 32px;\n",
              "  }\n",
              "\n",
              "  .colab-df-quickchart:hover {\n",
              "    background-color: var(--hover-bg-color);\n",
              "    box-shadow: 0 1px 2px rgba(60, 64, 67, 0.3), 0 1px 3px 1px rgba(60, 64, 67, 0.15);\n",
              "    fill: var(--button-hover-fill-color);\n",
              "  }\n",
              "\n",
              "  .colab-df-quickchart-complete:disabled,\n",
              "  .colab-df-quickchart-complete:disabled:hover {\n",
              "    background-color: var(--disabled-bg-color);\n",
              "    fill: var(--disabled-fill-color);\n",
              "    box-shadow: none;\n",
              "  }\n",
              "\n",
              "  .colab-df-spinner {\n",
              "    border: 2px solid var(--fill-color);\n",
              "    border-color: transparent;\n",
              "    border-bottom-color: var(--fill-color);\n",
              "    animation:\n",
              "      spin 1s steps(1) infinite;\n",
              "  }\n",
              "\n",
              "  @keyframes spin {\n",
              "    0% {\n",
              "      border-color: transparent;\n",
              "      border-bottom-color: var(--fill-color);\n",
              "      border-left-color: var(--fill-color);\n",
              "    }\n",
              "    20% {\n",
              "      border-color: transparent;\n",
              "      border-left-color: var(--fill-color);\n",
              "      border-top-color: var(--fill-color);\n",
              "    }\n",
              "    30% {\n",
              "      border-color: transparent;\n",
              "      border-left-color: var(--fill-color);\n",
              "      border-top-color: var(--fill-color);\n",
              "      border-right-color: var(--fill-color);\n",
              "    }\n",
              "    40% {\n",
              "      border-color: transparent;\n",
              "      border-right-color: var(--fill-color);\n",
              "      border-top-color: var(--fill-color);\n",
              "    }\n",
              "    60% {\n",
              "      border-color: transparent;\n",
              "      border-right-color: var(--fill-color);\n",
              "    }\n",
              "    80% {\n",
              "      border-color: transparent;\n",
              "      border-right-color: var(--fill-color);\n",
              "      border-bottom-color: var(--fill-color);\n",
              "    }\n",
              "    90% {\n",
              "      border-color: transparent;\n",
              "      border-bottom-color: var(--fill-color);\n",
              "    }\n",
              "  }\n",
              "</style>\n",
              "\n",
              "  <script>\n",
              "    async function quickchart(key) {\n",
              "      const quickchartButtonEl =\n",
              "        document.querySelector('#' + key + ' button');\n",
              "      quickchartButtonEl.disabled = true;  // To prevent multiple clicks.\n",
              "      quickchartButtonEl.classList.add('colab-df-spinner');\n",
              "      try {\n",
              "        const charts = await google.colab.kernel.invokeFunction(\n",
              "            'suggestCharts', [key], {});\n",
              "      } catch (error) {\n",
              "        console.error('Error during call to suggestCharts:', error);\n",
              "      }\n",
              "      quickchartButtonEl.classList.remove('colab-df-spinner');\n",
              "      quickchartButtonEl.classList.add('colab-df-quickchart-complete');\n",
              "    }\n",
              "    (() => {\n",
              "      let quickchartButtonEl =\n",
              "        document.querySelector('#df-81a6b2a8-bc14-42cc-8323-f4821ce9013d button');\n",
              "      quickchartButtonEl.style.display =\n",
              "        google.colab.kernel.accessAllowed ? 'block' : 'none';\n",
              "    })();\n",
              "  </script>\n",
              "</div>\n",
              "    </div>\n",
              "  </div>\n"
            ]
          },
          "metadata": {},
          "execution_count": 4
        }
      ],
      "source": [
        "df=pd.read_excel('Flight_Price_Prediction.xlsx')\n",
        "df.head(2)"
      ]
    },
    {
      "cell_type": "markdown",
      "source": [
        "## Inspect Data"
      ],
      "metadata": {
        "id": "xRUHsKedlk-u"
      },
      "id": "xRUHsKedlk-u"
    },
    {
      "cell_type": "code",
      "source": [
        "df.shape"
      ],
      "metadata": {
        "colab": {
          "base_uri": "https://localhost:8080/"
        },
        "id": "7TP02r-olwzd",
        "outputId": "bb048191-beab-43eb-da7c-6a89ad29c953"
      },
      "id": "7TP02r-olwzd",
      "execution_count": 5,
      "outputs": [
        {
          "output_type": "execute_result",
          "data": {
            "text/plain": [
              "(10683, 11)"
            ]
          },
          "metadata": {},
          "execution_count": 5
        }
      ]
    },
    {
      "cell_type": "code",
      "execution_count": 6,
      "id": "2ae03958",
      "metadata": {
        "colab": {
          "base_uri": "https://localhost:8080/"
        },
        "id": "2ae03958",
        "outputId": "769a48a4-8f4b-4153-e1f8-2457e1b1de6b"
      },
      "outputs": [
        {
          "output_type": "stream",
          "name": "stdout",
          "text": [
            "<class 'pandas.core.frame.DataFrame'>\n",
            "RangeIndex: 10683 entries, 0 to 10682\n",
            "Data columns (total 11 columns):\n",
            " #   Column           Non-Null Count  Dtype \n",
            "---  ------           --------------  ----- \n",
            " 0   Airline          10683 non-null  object\n",
            " 1   Date_of_Journey  10683 non-null  object\n",
            " 2   Source           10683 non-null  object\n",
            " 3   Destination      10683 non-null  object\n",
            " 4   Route            10682 non-null  object\n",
            " 5   Dep_Time         10683 non-null  object\n",
            " 6   Arrival_Time     10683 non-null  object\n",
            " 7   Duration         10683 non-null  object\n",
            " 8   Total_Stops      10682 non-null  object\n",
            " 9   Additional_Info  10683 non-null  object\n",
            " 10  Price            10683 non-null  int64 \n",
            "dtypes: int64(1), object(10)\n",
            "memory usage: 918.2+ KB\n"
          ]
        }
      ],
      "source": [
        "df.info()"
      ]
    },
    {
      "cell_type": "code",
      "execution_count": 7,
      "id": "b8ca76ae",
      "metadata": {
        "colab": {
          "base_uri": "https://localhost:8080/",
          "height": 300
        },
        "id": "b8ca76ae",
        "outputId": "ee852a0e-c80b-4605-b7de-07cb2b264c56"
      },
      "outputs": [
        {
          "output_type": "execute_result",
          "data": {
            "text/plain": [
              "         Price\n",
              "count  10683.0\n",
              "mean    9087.0\n",
              "std     4611.0\n",
              "min     1759.0\n",
              "25%     5277.0\n",
              "50%     8372.0\n",
              "75%    12373.0\n",
              "max    79512.0"
            ],
            "text/html": [
              "\n",
              "  <div id=\"df-71d52b56-05de-4fcc-a034-9174d7ca037c\" class=\"colab-df-container\">\n",
              "    <div>\n",
              "<style scoped>\n",
              "    .dataframe tbody tr th:only-of-type {\n",
              "        vertical-align: middle;\n",
              "    }\n",
              "\n",
              "    .dataframe tbody tr th {\n",
              "        vertical-align: top;\n",
              "    }\n",
              "\n",
              "    .dataframe thead th {\n",
              "        text-align: right;\n",
              "    }\n",
              "</style>\n",
              "<table border=\"1\" class=\"dataframe\">\n",
              "  <thead>\n",
              "    <tr style=\"text-align: right;\">\n",
              "      <th></th>\n",
              "      <th>Price</th>\n",
              "    </tr>\n",
              "  </thead>\n",
              "  <tbody>\n",
              "    <tr>\n",
              "      <th>count</th>\n",
              "      <td>10683.0</td>\n",
              "    </tr>\n",
              "    <tr>\n",
              "      <th>mean</th>\n",
              "      <td>9087.0</td>\n",
              "    </tr>\n",
              "    <tr>\n",
              "      <th>std</th>\n",
              "      <td>4611.0</td>\n",
              "    </tr>\n",
              "    <tr>\n",
              "      <th>min</th>\n",
              "      <td>1759.0</td>\n",
              "    </tr>\n",
              "    <tr>\n",
              "      <th>25%</th>\n",
              "      <td>5277.0</td>\n",
              "    </tr>\n",
              "    <tr>\n",
              "      <th>50%</th>\n",
              "      <td>8372.0</td>\n",
              "    </tr>\n",
              "    <tr>\n",
              "      <th>75%</th>\n",
              "      <td>12373.0</td>\n",
              "    </tr>\n",
              "    <tr>\n",
              "      <th>max</th>\n",
              "      <td>79512.0</td>\n",
              "    </tr>\n",
              "  </tbody>\n",
              "</table>\n",
              "</div>\n",
              "    <div class=\"colab-df-buttons\">\n",
              "\n",
              "  <div class=\"colab-df-container\">\n",
              "    <button class=\"colab-df-convert\" onclick=\"convertToInteractive('df-71d52b56-05de-4fcc-a034-9174d7ca037c')\"\n",
              "            title=\"Convert this dataframe to an interactive table.\"\n",
              "            style=\"display:none;\">\n",
              "\n",
              "  <svg xmlns=\"http://www.w3.org/2000/svg\" height=\"24px\" viewBox=\"0 -960 960 960\">\n",
              "    <path d=\"M120-120v-720h720v720H120Zm60-500h600v-160H180v160Zm220 220h160v-160H400v160Zm0 220h160v-160H400v160ZM180-400h160v-160H180v160Zm440 0h160v-160H620v160ZM180-180h160v-160H180v160Zm440 0h160v-160H620v160Z\"/>\n",
              "  </svg>\n",
              "    </button>\n",
              "\n",
              "  <style>\n",
              "    .colab-df-container {\n",
              "      display:flex;\n",
              "      gap: 12px;\n",
              "    }\n",
              "\n",
              "    .colab-df-convert {\n",
              "      background-color: #E8F0FE;\n",
              "      border: none;\n",
              "      border-radius: 50%;\n",
              "      cursor: pointer;\n",
              "      display: none;\n",
              "      fill: #1967D2;\n",
              "      height: 32px;\n",
              "      padding: 0 0 0 0;\n",
              "      width: 32px;\n",
              "    }\n",
              "\n",
              "    .colab-df-convert:hover {\n",
              "      background-color: #E2EBFA;\n",
              "      box-shadow: 0px 1px 2px rgba(60, 64, 67, 0.3), 0px 1px 3px 1px rgba(60, 64, 67, 0.15);\n",
              "      fill: #174EA6;\n",
              "    }\n",
              "\n",
              "    .colab-df-buttons div {\n",
              "      margin-bottom: 4px;\n",
              "    }\n",
              "\n",
              "    [theme=dark] .colab-df-convert {\n",
              "      background-color: #3B4455;\n",
              "      fill: #D2E3FC;\n",
              "    }\n",
              "\n",
              "    [theme=dark] .colab-df-convert:hover {\n",
              "      background-color: #434B5C;\n",
              "      box-shadow: 0px 1px 3px 1px rgba(0, 0, 0, 0.15);\n",
              "      filter: drop-shadow(0px 1px 2px rgba(0, 0, 0, 0.3));\n",
              "      fill: #FFFFFF;\n",
              "    }\n",
              "  </style>\n",
              "\n",
              "    <script>\n",
              "      const buttonEl =\n",
              "        document.querySelector('#df-71d52b56-05de-4fcc-a034-9174d7ca037c button.colab-df-convert');\n",
              "      buttonEl.style.display =\n",
              "        google.colab.kernel.accessAllowed ? 'block' : 'none';\n",
              "\n",
              "      async function convertToInteractive(key) {\n",
              "        const element = document.querySelector('#df-71d52b56-05de-4fcc-a034-9174d7ca037c');\n",
              "        const dataTable =\n",
              "          await google.colab.kernel.invokeFunction('convertToInteractive',\n",
              "                                                    [key], {});\n",
              "        if (!dataTable) return;\n",
              "\n",
              "        const docLinkHtml = 'Like what you see? Visit the ' +\n",
              "          '<a target=\"_blank\" href=https://colab.research.google.com/notebooks/data_table.ipynb>data table notebook</a>'\n",
              "          + ' to learn more about interactive tables.';\n",
              "        element.innerHTML = '';\n",
              "        dataTable['output_type'] = 'display_data';\n",
              "        await google.colab.output.renderOutput(dataTable, element);\n",
              "        const docLink = document.createElement('div');\n",
              "        docLink.innerHTML = docLinkHtml;\n",
              "        element.appendChild(docLink);\n",
              "      }\n",
              "    </script>\n",
              "  </div>\n",
              "\n",
              "\n",
              "<div id=\"df-4c1aab69-03b0-4882-b1e3-92a34d04bed6\">\n",
              "  <button class=\"colab-df-quickchart\" onclick=\"quickchart('df-4c1aab69-03b0-4882-b1e3-92a34d04bed6')\"\n",
              "            title=\"Suggest charts\"\n",
              "            style=\"display:none;\">\n",
              "\n",
              "<svg xmlns=\"http://www.w3.org/2000/svg\" height=\"24px\"viewBox=\"0 0 24 24\"\n",
              "     width=\"24px\">\n",
              "    <g>\n",
              "        <path d=\"M19 3H5c-1.1 0-2 .9-2 2v14c0 1.1.9 2 2 2h14c1.1 0 2-.9 2-2V5c0-1.1-.9-2-2-2zM9 17H7v-7h2v7zm4 0h-2V7h2v10zm4 0h-2v-4h2v4z\"/>\n",
              "    </g>\n",
              "</svg>\n",
              "  </button>\n",
              "\n",
              "<style>\n",
              "  .colab-df-quickchart {\n",
              "      --bg-color: #E8F0FE;\n",
              "      --fill-color: #1967D2;\n",
              "      --hover-bg-color: #E2EBFA;\n",
              "      --hover-fill-color: #174EA6;\n",
              "      --disabled-fill-color: #AAA;\n",
              "      --disabled-bg-color: #DDD;\n",
              "  }\n",
              "\n",
              "  [theme=dark] .colab-df-quickchart {\n",
              "      --bg-color: #3B4455;\n",
              "      --fill-color: #D2E3FC;\n",
              "      --hover-bg-color: #434B5C;\n",
              "      --hover-fill-color: #FFFFFF;\n",
              "      --disabled-bg-color: #3B4455;\n",
              "      --disabled-fill-color: #666;\n",
              "  }\n",
              "\n",
              "  .colab-df-quickchart {\n",
              "    background-color: var(--bg-color);\n",
              "    border: none;\n",
              "    border-radius: 50%;\n",
              "    cursor: pointer;\n",
              "    display: none;\n",
              "    fill: var(--fill-color);\n",
              "    height: 32px;\n",
              "    padding: 0;\n",
              "    width: 32px;\n",
              "  }\n",
              "\n",
              "  .colab-df-quickchart:hover {\n",
              "    background-color: var(--hover-bg-color);\n",
              "    box-shadow: 0 1px 2px rgba(60, 64, 67, 0.3), 0 1px 3px 1px rgba(60, 64, 67, 0.15);\n",
              "    fill: var(--button-hover-fill-color);\n",
              "  }\n",
              "\n",
              "  .colab-df-quickchart-complete:disabled,\n",
              "  .colab-df-quickchart-complete:disabled:hover {\n",
              "    background-color: var(--disabled-bg-color);\n",
              "    fill: var(--disabled-fill-color);\n",
              "    box-shadow: none;\n",
              "  }\n",
              "\n",
              "  .colab-df-spinner {\n",
              "    border: 2px solid var(--fill-color);\n",
              "    border-color: transparent;\n",
              "    border-bottom-color: var(--fill-color);\n",
              "    animation:\n",
              "      spin 1s steps(1) infinite;\n",
              "  }\n",
              "\n",
              "  @keyframes spin {\n",
              "    0% {\n",
              "      border-color: transparent;\n",
              "      border-bottom-color: var(--fill-color);\n",
              "      border-left-color: var(--fill-color);\n",
              "    }\n",
              "    20% {\n",
              "      border-color: transparent;\n",
              "      border-left-color: var(--fill-color);\n",
              "      border-top-color: var(--fill-color);\n",
              "    }\n",
              "    30% {\n",
              "      border-color: transparent;\n",
              "      border-left-color: var(--fill-color);\n",
              "      border-top-color: var(--fill-color);\n",
              "      border-right-color: var(--fill-color);\n",
              "    }\n",
              "    40% {\n",
              "      border-color: transparent;\n",
              "      border-right-color: var(--fill-color);\n",
              "      border-top-color: var(--fill-color);\n",
              "    }\n",
              "    60% {\n",
              "      border-color: transparent;\n",
              "      border-right-color: var(--fill-color);\n",
              "    }\n",
              "    80% {\n",
              "      border-color: transparent;\n",
              "      border-right-color: var(--fill-color);\n",
              "      border-bottom-color: var(--fill-color);\n",
              "    }\n",
              "    90% {\n",
              "      border-color: transparent;\n",
              "      border-bottom-color: var(--fill-color);\n",
              "    }\n",
              "  }\n",
              "</style>\n",
              "\n",
              "  <script>\n",
              "    async function quickchart(key) {\n",
              "      const quickchartButtonEl =\n",
              "        document.querySelector('#' + key + ' button');\n",
              "      quickchartButtonEl.disabled = true;  // To prevent multiple clicks.\n",
              "      quickchartButtonEl.classList.add('colab-df-spinner');\n",
              "      try {\n",
              "        const charts = await google.colab.kernel.invokeFunction(\n",
              "            'suggestCharts', [key], {});\n",
              "      } catch (error) {\n",
              "        console.error('Error during call to suggestCharts:', error);\n",
              "      }\n",
              "      quickchartButtonEl.classList.remove('colab-df-spinner');\n",
              "      quickchartButtonEl.classList.add('colab-df-quickchart-complete');\n",
              "    }\n",
              "    (() => {\n",
              "      let quickchartButtonEl =\n",
              "        document.querySelector('#df-4c1aab69-03b0-4882-b1e3-92a34d04bed6 button');\n",
              "      quickchartButtonEl.style.display =\n",
              "        google.colab.kernel.accessAllowed ? 'block' : 'none';\n",
              "    })();\n",
              "  </script>\n",
              "</div>\n",
              "    </div>\n",
              "  </div>\n"
            ]
          },
          "metadata": {},
          "execution_count": 7
        }
      ],
      "source": [
        "df.describe().round()"
      ]
    },
    {
      "cell_type": "code",
      "execution_count": null,
      "id": "3c3cd76e",
      "metadata": {
        "id": "3c3cd76e",
        "outputId": "07d12b22-0d0d-4cf3-dc08-f400610eaba9"
      },
      "outputs": [
        {
          "data": {
            "text/plain": [
              "(10683, 11)"
            ]
          },
          "execution_count": 6,
          "metadata": {},
          "output_type": "execute_result"
        }
      ],
      "source": [
        "df.shape"
      ]
    },
    {
      "cell_type": "markdown",
      "id": "72826fcb",
      "metadata": {
        "id": "72826fcb"
      },
      "source": [
        "## Data Cleaning"
      ]
    },
    {
      "cell_type": "code",
      "execution_count": null,
      "id": "8ca4a15d",
      "metadata": {
        "id": "8ca4a15d",
        "outputId": "e7fcd5e8-5a56-4f9a-d7a4-eb6a0cf36536"
      },
      "outputs": [
        {
          "data": {
            "text/plain": [
              "<function matplotlib.pyplot.show(close=None, block=None)>"
            ]
          },
          "execution_count": 7,
          "metadata": {},
          "output_type": "execute_result"
        },
        {
          "data": {
            "image/png": "[encoded data removed]",
            "text/plain": [
              "<Figure size 2400x1000 with 3 Axes>"
            ]
          },
          "metadata": {},
          "output_type": "display_data"
        }
      ],
      "source": [
        "import missingno as msno\n",
        "msno.bar(df)\n",
        "plt.show"
      ]
    },
    {
      "cell_type": "code",
      "source": [
        "df.isnull().sum()"
      ],
      "metadata": {
        "colab": {
          "base_uri": "https://localhost:8080/"
        },
        "id": "qZinT7XimbZm",
        "outputId": "ed1c4d70-1681-4f1e-aad8-0fdfc29f00cc"
      },
      "id": "qZinT7XimbZm",
      "execution_count": 8,
      "outputs": [
        {
          "output_type": "execute_result",
          "data": {
            "text/plain": [
              "Airline            0\n",
              "Date_of_Journey    0\n",
              "Source             0\n",
              "Destination        0\n",
              "Route              1\n",
              "Dep_Time           0\n",
              "Arrival_Time       0\n",
              "Duration           0\n",
              "Total_Stops        1\n",
              "Additional_Info    0\n",
              "Price              0\n",
              "dtype: int64"
            ]
          },
          "metadata": {},
          "execution_count": 8
        }
      ]
    },
    {
      "cell_type": "code",
      "execution_count": null,
      "id": "56168fc3",
      "metadata": {
        "id": "56168fc3"
      },
      "outputs": [],
      "source": [
        "#drop the nullvalues\n",
        "df.dropna(inplace=True)"
      ]
    },
    {
      "cell_type": "code",
      "execution_count": null,
      "id": "9ffcc876",
      "metadata": {
        "id": "9ffcc876",
        "outputId": "54edcadd-b751-4560-e9f5-7f619d42ecca"
      },
      "outputs": [
        {
          "data": {
            "text/plain": [
              "Airline            0\n",
              "Date_of_Journey    0\n",
              "Source             0\n",
              "Destination        0\n",
              "Route              0\n",
              "Dep_Time           0\n",
              "Arrival_Time       0\n",
              "Duration           0\n",
              "Total_Stops        0\n",
              "Additional_Info    0\n",
              "Price              0\n",
              "dtype: int64"
            ]
          },
          "execution_count": 9,
          "metadata": {},
          "output_type": "execute_result"
        }
      ],
      "source": [
        "df.isnull().sum()"
      ]
    },
    {
      "cell_type": "code",
      "execution_count": null,
      "id": "d910a4d0",
      "metadata": {
        "id": "d910a4d0",
        "outputId": "d00063a8-8b38-439e-f923-53b020a6d6c6"
      },
      "outputs": [
        {
          "data": {
            "text/plain": [
              "Airline            object\n",
              "Date_of_Journey    object\n",
              "Source             object\n",
              "Destination        object\n",
              "Route              object\n",
              "Dep_Time           object\n",
              "Arrival_Time       object\n",
              "Duration           object\n",
              "Total_Stops        object\n",
              "Additional_Info    object\n",
              "Price               int64\n",
              "dtype: object"
            ]
          },
          "execution_count": 10,
          "metadata": {},
          "output_type": "execute_result"
        }
      ],
      "source": [
        "df.dtypes"
      ]
    },
    {
      "cell_type": "markdown",
      "id": "4c67e3c7",
      "metadata": {
        "id": "4c67e3c7"
      },
      "source": [
        "The datatypes of Date_of_journey,Arrival_Time and Dep_Time is object.So,firstly we convert it into date and time for proper predicion.¶\n",
        "dt.day method will extract only day of that date\n",
        "dt.month method will extract only month of that date"
      ]
    },
    {
      "cell_type": "code",
      "execution_count": null,
      "id": "1f6a41d3",
      "metadata": {
        "id": "1f6a41d3"
      },
      "outputs": [],
      "source": [
        "def change_into_datetime(col):\n",
        "    df[col]=pd.to_datetime(df[col])"
      ]
    },
    {
      "cell_type": "code",
      "execution_count": null,
      "id": "272434b2",
      "metadata": {
        "id": "272434b2",
        "outputId": "f1c7d8c0-445c-4526-e661-edf5509788e3"
      },
      "outputs": [
        {
          "data": {
            "text/plain": [
              "Index(['Airline', 'Date_of_Journey', 'Source', 'Destination', 'Route',\n",
              "       'Dep_Time', 'Arrival_Time', 'Duration', 'Total_Stops',\n",
              "       'Additional_Info', 'Price'],\n",
              "      dtype='object')"
            ]
          },
          "execution_count": 12,
          "metadata": {},
          "output_type": "execute_result"
        }
      ],
      "source": [
        "df.columns"
      ]
    },
    {
      "cell_type": "markdown",
      "id": "18160537",
      "metadata": {
        "id": "18160537"
      },
      "source": [
        "Convert Date_of_Journey, Dep_Time, Arrival_Time columns to date time"
      ]
    },
    {
      "cell_type": "code",
      "execution_count": null,
      "id": "fbfdf1d7",
      "metadata": {
        "id": "fbfdf1d7"
      },
      "outputs": [],
      "source": [
        "for i in ['Date_of_Journey','Dep_Time', 'Arrival_Time']:\n",
        "    change_into_datetime(i)"
      ]
    },
    {
      "cell_type": "code",
      "execution_count": null,
      "id": "454925a2",
      "metadata": {
        "id": "454925a2",
        "outputId": "f80df681-0dda-462f-f3b9-4d7c95bff65a"
      },
      "outputs": [
        {
          "data": {
            "text/plain": [
              "Airline                    object\n",
              "Date_of_Journey    datetime64[ns]\n",
              "Source                     object\n",
              "Destination                object\n",
              "Route                      object\n",
              "Dep_Time           datetime64[ns]\n",
              "Arrival_Time       datetime64[ns]\n",
              "Duration                   object\n",
              "Total_Stops                object\n",
              "Additional_Info            object\n",
              "Price                       int64\n",
              "dtype: object"
            ]
          },
          "execution_count": 14,
          "metadata": {},
          "output_type": "execute_result"
        }
      ],
      "source": [
        "df.dtypes"
      ]
    },
    {
      "cell_type": "markdown",
      "id": "7a6211a8",
      "metadata": {
        "id": "7a6211a8"
      },
      "source": [
        "Now ,we extract day and month from Date_of_journey and stored in 2 other columns.\n",
        "Then there will be no use of 'Date_of_Journey' column,so we drop it."
      ]
    },
    {
      "cell_type": "code",
      "execution_count": null,
      "id": "4e50cef2",
      "metadata": {
        "id": "4e50cef2"
      },
      "outputs": [],
      "source": [
        "df['journey_day']=df['Date_of_Journey'].dt.day\n",
        "df['journey_month']=df['Date_of_Journey'].dt.month"
      ]
    },
    {
      "cell_type": "code",
      "execution_count": null,
      "id": "f5f36094",
      "metadata": {
        "id": "f5f36094",
        "outputId": "200fa6d8-16cc-4c64-caed-352795467eae"
      },
      "outputs": [
        {
          "data": {
            "text/html": [
              "<div>\n",
              "<style scoped>\n",
              "    .dataframe tbody tr th:only-of-type {\n",
              "        vertical-align: middle;\n",
              "    }\n",
              "\n",
              "    .dataframe tbody tr th {\n",
              "        vertical-align: top;\n",
              "    }\n",
              "\n",
              "    .dataframe thead th {\n",
              "        text-align: right;\n",
              "    }\n",
              "</style>\n",
              "<table border=\"1\" class=\"dataframe\">\n",
              "  <thead>\n",
              "    <tr style=\"text-align: right;\">\n",
              "      <th></th>\n",
              "      <th>Airline</th>\n",
              "      <th>Date_of_Journey</th>\n",
              "      <th>Source</th>\n",
              "      <th>Destination</th>\n",
              "      <th>Route</th>\n",
              "      <th>Dep_Time</th>\n",
              "      <th>Arrival_Time</th>\n",
              "      <th>Duration</th>\n",
              "      <th>Total_Stops</th>\n",
              "      <th>Additional_Info</th>\n",
              "      <th>Price</th>\n",
              "      <th>journey_day</th>\n",
              "      <th>journey_month</th>\n",
              "    </tr>\n",
              "  </thead>\n",
              "  <tbody>\n",
              "    <tr>\n",
              "      <th>0</th>\n",
              "      <td>IndiGo</td>\n",
              "      <td>2019-03-24</td>\n",
              "      <td>Banglore</td>\n",
              "      <td>New Delhi</td>\n",
              "      <td>BLR → DEL</td>\n",
              "      <td>2023-12-04 22:20:00</td>\n",
              "      <td>2023-03-22 01:10:00</td>\n",
              "      <td>2h 50m</td>\n",
              "      <td>non-stop</td>\n",
              "      <td>No info</td>\n",
              "      <td>3897</td>\n",
              "      <td>24</td>\n",
              "      <td>3</td>\n",
              "    </tr>\n",
              "    <tr>\n",
              "      <th>1</th>\n",
              "      <td>Air India</td>\n",
              "      <td>2019-01-05</td>\n",
              "      <td>Kolkata</td>\n",
              "      <td>Banglore</td>\n",
              "      <td>CCU → IXR → BBI → BLR</td>\n",
              "      <td>2023-12-04 05:50:00</td>\n",
              "      <td>2023-12-04 13:15:00</td>\n",
              "      <td>7h 25m</td>\n",
              "      <td>2 stops</td>\n",
              "      <td>No info</td>\n",
              "      <td>7662</td>\n",
              "      <td>5</td>\n",
              "      <td>1</td>\n",
              "    </tr>\n",
              "  </tbody>\n",
              "</table>\n",
              "</div>"
            ],
            "text/plain": [
              "     Airline Date_of_Journey    Source Destination                  Route  \\\n",
              "0     IndiGo      2019-03-24  Banglore   New Delhi              BLR → DEL   \n",
              "1  Air India      2019-01-05   Kolkata    Banglore  CCU → IXR → BBI → BLR   \n",
              "\n",
              "             Dep_Time        Arrival_Time Duration Total_Stops  \\\n",
              "0 2023-12-04 22:20:00 2023-03-22 01:10:00   2h 50m    non-stop   \n",
              "1 2023-12-04 05:50:00 2023-12-04 13:15:00   7h 25m     2 stops   \n",
              "\n",
              "  Additional_Info  Price  journey_day  journey_month  \n",
              "0         No info   3897           24              3  \n",
              "1         No info   7662            5              1  "
            ]
          },
          "execution_count": 16,
          "metadata": {},
          "output_type": "execute_result"
        }
      ],
      "source": [
        "df.head(2)"
      ]
    },
    {
      "cell_type": "code",
      "execution_count": null,
      "id": "21f96eb6",
      "metadata": {
        "id": "21f96eb6"
      },
      "outputs": [],
      "source": [
        "df.drop('Date_of_Journey', axis=1, inplace=True)"
      ]
    },
    {
      "cell_type": "markdown",
      "id": "aab16bae",
      "metadata": {
        "id": "aab16bae"
      },
      "source": [
        "From Arrival_time and Dept_time features,we extract hour and minutes and stored in new columns and drop these columns"
      ]
    },
    {
      "cell_type": "code",
      "execution_count": null,
      "id": "5778d3c6",
      "metadata": {
        "id": "5778d3c6"
      },
      "outputs": [],
      "source": [
        "# function for extracting hour and minutes\n",
        "def extract_hour(data,col):\n",
        "    data[col+'_hour']=data[col].dt.hour\n",
        "\n",
        "def extract_min(data,col):\n",
        "    data[col+'_min']=data[col].dt.minute\n",
        "\n",
        "\n",
        "def drop_col(data,col):\n",
        "    data.drop(col,axis=1,inplace=True)"
      ]
    },
    {
      "cell_type": "code",
      "execution_count": null,
      "id": "58512ee0",
      "metadata": {
        "id": "58512ee0"
      },
      "outputs": [],
      "source": [
        "#call the function\n",
        "# Departure time is when a plane leaves the gate.\n",
        "# Similar to Date_of_Journey we can extract values from Dep_Time\n",
        "extract_hour(df,'Dep_Time')\n",
        "\n",
        "#extracting minutes\n",
        "extract_min(df,'Dep_Time')\n",
        "\n",
        "#drop the column\n",
        "drop_col(df,'Dep_Time')"
      ]
    },
    {
      "cell_type": "code",
      "execution_count": null,
      "id": "05365655",
      "metadata": {
        "id": "05365655"
      },
      "outputs": [],
      "source": [
        "#extracting hour\n",
        "extract_hour(df,'Arrival_Time')\n",
        "\n",
        "#extracting min\n",
        "extract_min(df,'Arrival_Time')\n",
        "\n",
        "\n",
        "#drop the column\n",
        "drop_col(df,'Arrival_Time')"
      ]
    },
    {
      "cell_type": "code",
      "execution_count": null,
      "id": "6e82d8c2",
      "metadata": {
        "id": "6e82d8c2",
        "outputId": "22980fc6-cc92-40d1-d1f7-de8a20fdfe6a"
      },
      "outputs": [
        {
          "data": {
            "text/html": [
              "<div>\n",
              "<style scoped>\n",
              "    .dataframe tbody tr th:only-of-type {\n",
              "        vertical-align: middle;\n",
              "    }\n",
              "\n",
              "    .dataframe tbody tr th {\n",
              "        vertical-align: top;\n",
              "    }\n",
              "\n",
              "    .dataframe thead th {\n",
              "        text-align: right;\n",
              "    }\n",
              "</style>\n",
              "<table border=\"1\" class=\"dataframe\">\n",
              "  <thead>\n",
              "    <tr style=\"text-align: right;\">\n",
              "      <th></th>\n",
              "      <th>Airline</th>\n",
              "      <th>Source</th>\n",
              "      <th>Destination</th>\n",
              "      <th>Route</th>\n",
              "      <th>Duration</th>\n",
              "      <th>Total_Stops</th>\n",
              "      <th>Additional_Info</th>\n",
              "      <th>Price</th>\n",
              "      <th>journey_day</th>\n",
              "      <th>journey_month</th>\n",
              "      <th>Dep_Time_hour</th>\n",
              "      <th>Dep_Time_min</th>\n",
              "      <th>Arrival_Time_hour</th>\n",
              "      <th>Arrival_Time_min</th>\n",
              "    </tr>\n",
              "  </thead>\n",
              "  <tbody>\n",
              "    <tr>\n",
              "      <th>0</th>\n",
              "      <td>IndiGo</td>\n",
              "      <td>Banglore</td>\n",
              "      <td>New Delhi</td>\n",
              "      <td>BLR → DEL</td>\n",
              "      <td>2h 50m</td>\n",
              "      <td>non-stop</td>\n",
              "      <td>No info</td>\n",
              "      <td>3897</td>\n",
              "      <td>24</td>\n",
              "      <td>3</td>\n",
              "      <td>22</td>\n",
              "      <td>20</td>\n",
              "      <td>1</td>\n",
              "      <td>10</td>\n",
              "    </tr>\n",
              "    <tr>\n",
              "      <th>1</th>\n",
              "      <td>Air India</td>\n",
              "      <td>Kolkata</td>\n",
              "      <td>Banglore</td>\n",
              "      <td>CCU → IXR → BBI → BLR</td>\n",
              "      <td>7h 25m</td>\n",
              "      <td>2 stops</td>\n",
              "      <td>No info</td>\n",
              "      <td>7662</td>\n",
              "      <td>5</td>\n",
              "      <td>1</td>\n",
              "      <td>5</td>\n",
              "      <td>50</td>\n",
              "      <td>13</td>\n",
              "      <td>15</td>\n",
              "    </tr>\n",
              "  </tbody>\n",
              "</table>\n",
              "</div>"
            ],
            "text/plain": [
              "     Airline    Source Destination                  Route Duration  \\\n",
              "0     IndiGo  Banglore   New Delhi              BLR → DEL   2h 50m   \n",
              "1  Air India   Kolkata    Banglore  CCU → IXR → BBI → BLR   7h 25m   \n",
              "\n",
              "  Total_Stops Additional_Info  Price  journey_day  journey_month  \\\n",
              "0    non-stop         No info   3897           24              3   \n",
              "1     2 stops         No info   7662            5              1   \n",
              "\n",
              "   Dep_Time_hour  Dep_Time_min  Arrival_Time_hour  Arrival_Time_min  \n",
              "0             22            20                  1                10  \n",
              "1              5            50                 13                15  "
            ]
          },
          "execution_count": 21,
          "metadata": {},
          "output_type": "execute_result"
        }
      ],
      "source": [
        "df.head(2)"
      ]
    },
    {
      "cell_type": "markdown",
      "id": "b9c60742",
      "metadata": {
        "id": "b9c60742"
      },
      "source": [
        "Lets Apply pre-processing on duration column,Separate Duration hours and minute from duration"
      ]
    },
    {
      "cell_type": "code",
      "execution_count": null,
      "id": "11fc2bea",
      "metadata": {
        "id": "11fc2bea"
      },
      "outputs": [],
      "source": [
        "Duration=list(df['Duration'])\n",
        "for i in range(len(Duration)):\n",
        "    if len(Duration[i].split(' '))==2:\n",
        "        pass\n",
        "    else:\n",
        "        if 'h' in Duration[i]: # Check if duration contains only hour\n",
        "             Duration[i]=Duration[i] + ' 0m' # Adds 0 minute\n",
        "        else:\n",
        "             Duration[i]='0h '+ Duration[i]"
      ]
    },
    {
      "cell_type": "code",
      "execution_count": null,
      "id": "71333735",
      "metadata": {
        "id": "71333735"
      },
      "outputs": [],
      "source": [
        "df['Duration']=Duration"
      ]
    },
    {
      "cell_type": "code",
      "execution_count": null,
      "id": "7ff53f4a",
      "metadata": {
        "id": "7ff53f4a",
        "outputId": "e2e27e85-ac88-46d5-8ce3-7b2f1c3192a2"
      },
      "outputs": [
        {
          "data": {
            "text/html": [
              "<div>\n",
              "<style scoped>\n",
              "    .dataframe tbody tr th:only-of-type {\n",
              "        vertical-align: middle;\n",
              "    }\n",
              "\n",
              "    .dataframe tbody tr th {\n",
              "        vertical-align: top;\n",
              "    }\n",
              "\n",
              "    .dataframe thead th {\n",
              "        text-align: right;\n",
              "    }\n",
              "</style>\n",
              "<table border=\"1\" class=\"dataframe\">\n",
              "  <thead>\n",
              "    <tr style=\"text-align: right;\">\n",
              "      <th></th>\n",
              "      <th>Airline</th>\n",
              "      <th>Source</th>\n",
              "      <th>Destination</th>\n",
              "      <th>Route</th>\n",
              "      <th>Duration</th>\n",
              "      <th>Total_Stops</th>\n",
              "      <th>Additional_Info</th>\n",
              "      <th>Price</th>\n",
              "      <th>journey_day</th>\n",
              "      <th>journey_month</th>\n",
              "      <th>Dep_Time_hour</th>\n",
              "      <th>Dep_Time_min</th>\n",
              "      <th>Arrival_Time_hour</th>\n",
              "      <th>Arrival_Time_min</th>\n",
              "    </tr>\n",
              "  </thead>\n",
              "  <tbody>\n",
              "    <tr>\n",
              "      <th>0</th>\n",
              "      <td>IndiGo</td>\n",
              "      <td>Banglore</td>\n",
              "      <td>New Delhi</td>\n",
              "      <td>BLR → DEL</td>\n",
              "      <td>2h 50m</td>\n",
              "      <td>non-stop</td>\n",
              "      <td>No info</td>\n",
              "      <td>3897</td>\n",
              "      <td>24</td>\n",
              "      <td>3</td>\n",
              "      <td>22</td>\n",
              "      <td>20</td>\n",
              "      <td>1</td>\n",
              "      <td>10</td>\n",
              "    </tr>\n",
              "    <tr>\n",
              "      <th>1</th>\n",
              "      <td>Air India</td>\n",
              "      <td>Kolkata</td>\n",
              "      <td>Banglore</td>\n",
              "      <td>CCU → IXR → BBI → BLR</td>\n",
              "      <td>7h 25m</td>\n",
              "      <td>2 stops</td>\n",
              "      <td>No info</td>\n",
              "      <td>7662</td>\n",
              "      <td>5</td>\n",
              "      <td>1</td>\n",
              "      <td>5</td>\n",
              "      <td>50</td>\n",
              "      <td>13</td>\n",
              "      <td>15</td>\n",
              "    </tr>\n",
              "  </tbody>\n",
              "</table>\n",
              "</div>"
            ],
            "text/plain": [
              "     Airline    Source Destination                  Route Duration  \\\n",
              "0     IndiGo  Banglore   New Delhi              BLR → DEL   2h 50m   \n",
              "1  Air India   Kolkata    Banglore  CCU → IXR → BBI → BLR   7h 25m   \n",
              "\n",
              "  Total_Stops Additional_Info  Price  journey_day  journey_month  \\\n",
              "0    non-stop         No info   3897           24              3   \n",
              "1     2 stops         No info   7662            5              1   \n",
              "\n",
              "   Dep_Time_hour  Dep_Time_min  Arrival_Time_hour  Arrival_Time_min  \n",
              "0             22            20                  1                10  \n",
              "1              5            50                 13                15  "
            ]
          },
          "execution_count": 24,
          "metadata": {},
          "output_type": "execute_result"
        }
      ],
      "source": [
        "df.head(2)"
      ]
    },
    {
      "cell_type": "code",
      "execution_count": null,
      "id": "637a93b1",
      "metadata": {
        "id": "637a93b1"
      },
      "outputs": [],
      "source": [
        "def hour(x):\n",
        "    return x.split(' ')[0][0:-1]\n",
        "\n",
        "def minutes(x):\n",
        "    return x.split(' ')[1][0:-1]"
      ]
    },
    {
      "cell_type": "code",
      "execution_count": null,
      "id": "8f598260",
      "metadata": {
        "id": "8f598260"
      },
      "outputs": [],
      "source": [
        "df['Dur_Hour']=df['Duration'].apply(hour)"
      ]
    },
    {
      "cell_type": "code",
      "execution_count": null,
      "id": "02b65e3c",
      "metadata": {
        "id": "02b65e3c"
      },
      "outputs": [],
      "source": [
        "df['Dur_Min']=df['Duration'].apply(minutes)"
      ]
    },
    {
      "cell_type": "code",
      "execution_count": null,
      "id": "3aa28b08",
      "metadata": {
        "id": "3aa28b08",
        "outputId": "21f97dc7-5732-406f-b2e4-23271fbc74df"
      },
      "outputs": [
        {
          "data": {
            "text/html": [
              "<div>\n",
              "<style scoped>\n",
              "    .dataframe tbody tr th:only-of-type {\n",
              "        vertical-align: middle;\n",
              "    }\n",
              "\n",
              "    .dataframe tbody tr th {\n",
              "        vertical-align: top;\n",
              "    }\n",
              "\n",
              "    .dataframe thead th {\n",
              "        text-align: right;\n",
              "    }\n",
              "</style>\n",
              "<table border=\"1\" class=\"dataframe\">\n",
              "  <thead>\n",
              "    <tr style=\"text-align: right;\">\n",
              "      <th></th>\n",
              "      <th>Airline</th>\n",
              "      <th>Source</th>\n",
              "      <th>Destination</th>\n",
              "      <th>Route</th>\n",
              "      <th>Duration</th>\n",
              "      <th>Total_Stops</th>\n",
              "      <th>Additional_Info</th>\n",
              "      <th>Price</th>\n",
              "      <th>journey_day</th>\n",
              "      <th>journey_month</th>\n",
              "      <th>Dep_Time_hour</th>\n",
              "      <th>Dep_Time_min</th>\n",
              "      <th>Arrival_Time_hour</th>\n",
              "      <th>Arrival_Time_min</th>\n",
              "      <th>Dur_Hour</th>\n",
              "      <th>Dur_Min</th>\n",
              "    </tr>\n",
              "  </thead>\n",
              "  <tbody>\n",
              "    <tr>\n",
              "      <th>0</th>\n",
              "      <td>IndiGo</td>\n",
              "      <td>Banglore</td>\n",
              "      <td>New Delhi</td>\n",
              "      <td>BLR → DEL</td>\n",
              "      <td>2h 50m</td>\n",
              "      <td>non-stop</td>\n",
              "      <td>No info</td>\n",
              "      <td>3897</td>\n",
              "      <td>24</td>\n",
              "      <td>3</td>\n",
              "      <td>22</td>\n",
              "      <td>20</td>\n",
              "      <td>1</td>\n",
              "      <td>10</td>\n",
              "      <td>2</td>\n",
              "      <td>50</td>\n",
              "    </tr>\n",
              "    <tr>\n",
              "      <th>1</th>\n",
              "      <td>Air India</td>\n",
              "      <td>Kolkata</td>\n",
              "      <td>Banglore</td>\n",
              "      <td>CCU → IXR → BBI → BLR</td>\n",
              "      <td>7h 25m</td>\n",
              "      <td>2 stops</td>\n",
              "      <td>No info</td>\n",
              "      <td>7662</td>\n",
              "      <td>5</td>\n",
              "      <td>1</td>\n",
              "      <td>5</td>\n",
              "      <td>50</td>\n",
              "      <td>13</td>\n",
              "      <td>15</td>\n",
              "      <td>7</td>\n",
              "      <td>25</td>\n",
              "    </tr>\n",
              "  </tbody>\n",
              "</table>\n",
              "</div>"
            ],
            "text/plain": [
              "     Airline    Source Destination                  Route Duration  \\\n",
              "0     IndiGo  Banglore   New Delhi              BLR → DEL   2h 50m   \n",
              "1  Air India   Kolkata    Banglore  CCU → IXR → BBI → BLR   7h 25m   \n",
              "\n",
              "  Total_Stops Additional_Info  Price  journey_day  journey_month  \\\n",
              "0    non-stop         No info   3897           24              3   \n",
              "1     2 stops         No info   7662            5              1   \n",
              "\n",
              "   Dep_Time_hour  Dep_Time_min  Arrival_Time_hour  Arrival_Time_min Dur_Hour  \\\n",
              "0             22            20                  1                10        2   \n",
              "1              5            50                 13                15        7   \n",
              "\n",
              "  Dur_Min  \n",
              "0      50  \n",
              "1      25  "
            ]
          },
          "execution_count": 28,
          "metadata": {},
          "output_type": "execute_result"
        }
      ],
      "source": [
        "df.head(2)"
      ]
    },
    {
      "cell_type": "code",
      "execution_count": null,
      "id": "911f55a3",
      "metadata": {
        "id": "911f55a3"
      },
      "outputs": [],
      "source": [
        "drop_col(df,'Duration')"
      ]
    },
    {
      "cell_type": "code",
      "execution_count": null,
      "id": "c6fe4b9b",
      "metadata": {
        "id": "c6fe4b9b",
        "outputId": "23bbb5f4-9589-4964-8179-2d2966f63873"
      },
      "outputs": [
        {
          "data": {
            "text/plain": [
              "Airline              object\n",
              "Source               object\n",
              "Destination          object\n",
              "Route                object\n",
              "Total_Stops          object\n",
              "Additional_Info      object\n",
              "Price                 int64\n",
              "journey_day           int64\n",
              "journey_month         int64\n",
              "Dep_Time_hour         int64\n",
              "Dep_Time_min          int64\n",
              "Arrival_Time_hour     int64\n",
              "Arrival_Time_min      int64\n",
              "Dur_Hour             object\n",
              "Dur_Min              object\n",
              "dtype: object"
            ]
          },
          "execution_count": 30,
          "metadata": {},
          "output_type": "execute_result"
        }
      ],
      "source": [
        "df.dtypes"
      ]
    },
    {
      "cell_type": "code",
      "execution_count": null,
      "id": "2ccbf43e",
      "metadata": {
        "id": "2ccbf43e"
      },
      "outputs": [],
      "source": [
        "df['Dur_Hour'] = df['Dur_Hour'].astype(int)\n",
        "df['Dur_Min'] = df['Dur_Min'].astype(int)"
      ]
    },
    {
      "cell_type": "code",
      "execution_count": null,
      "id": "4711a389",
      "metadata": {
        "id": "4711a389",
        "outputId": "069e01fb-7091-4dcc-838a-7fe0a306bd3d"
      },
      "outputs": [
        {
          "data": {
            "text/plain": [
              "Airline              object\n",
              "Source               object\n",
              "Destination          object\n",
              "Route                object\n",
              "Total_Stops          object\n",
              "Additional_Info      object\n",
              "Price                 int64\n",
              "journey_day           int64\n",
              "journey_month         int64\n",
              "Dep_Time_hour         int64\n",
              "Dep_Time_min          int64\n",
              "Arrival_Time_hour     int64\n",
              "Arrival_Time_min      int64\n",
              "Dur_Hour              int32\n",
              "Dur_Min               int32\n",
              "dtype: object"
            ]
          },
          "execution_count": 32,
          "metadata": {},
          "output_type": "execute_result"
        }
      ],
      "source": [
        "df.dtypes"
      ]
    },
    {
      "cell_type": "markdown",
      "id": "d4d9598d",
      "metadata": {
        "id": "d4d9598d"
      },
      "source": [
        "## Finding the categorical value"
      ]
    },
    {
      "cell_type": "code",
      "execution_count": null,
      "id": "a192565b",
      "metadata": {
        "id": "a192565b",
        "outputId": "ced2adc2-c041-46df-aeec-c9c9c9456911"
      },
      "outputs": [
        {
          "data": {
            "text/plain": [
              "['Airline', 'Source', 'Destination', 'Route', 'Total_Stops', 'Additional_Info']"
            ]
          },
          "execution_count": 33,
          "metadata": {},
          "output_type": "execute_result"
        }
      ],
      "source": [
        "column=[column for column in df.columns if df[column].dtype=='object']\n",
        "column"
      ]
    },
    {
      "cell_type": "markdown",
      "id": "90bfd55b",
      "metadata": {
        "id": "90bfd55b"
      },
      "source": [
        "## Finding the continuous value"
      ]
    },
    {
      "cell_type": "code",
      "execution_count": null,
      "id": "c38f7d88",
      "metadata": {
        "id": "c38f7d88",
        "outputId": "dabad0bf-703e-405c-efea-510663795676"
      },
      "outputs": [
        {
          "data": {
            "text/plain": [
              "['Price',\n",
              " 'journey_day',\n",
              " 'journey_month',\n",
              " 'Dep_Time_hour',\n",
              " 'Dep_Time_min',\n",
              " 'Arrival_Time_hour',\n",
              " 'Arrival_Time_min',\n",
              " 'Dur_Hour',\n",
              " 'Dur_Min']"
            ]
          },
          "execution_count": 34,
          "metadata": {},
          "output_type": "execute_result"
        }
      ],
      "source": [
        "continuous_col =[column for column in df.columns if df[column].dtype!='object']\n",
        "continuous_col"
      ]
    },
    {
      "cell_type": "markdown",
      "id": "a2017ab8",
      "metadata": {
        "id": "a2017ab8"
      },
      "source": [
        "## Handling categorical data"
      ]
    },
    {
      "cell_type": "markdown",
      "id": "d47c4672",
      "metadata": {
        "id": "d47c4672"
      },
      "source": [
        "We are using two main Encoding Techniques to covert Categorical data into some numerical format\n",
        "Nominal data -- Data that are not in any order -->one hot encoding\n",
        "ordinal data -- Data are in order --> labelEncoder"
      ]
    },
    {
      "cell_type": "code",
      "execution_count": null,
      "id": "54c51eaa",
      "metadata": {
        "id": "54c51eaa"
      },
      "outputs": [],
      "source": [
        "categorical = df[column]"
      ]
    },
    {
      "cell_type": "code",
      "execution_count": null,
      "id": "46f41e77",
      "metadata": {
        "id": "46f41e77",
        "outputId": "a9205cec-26e4-4e03-9503-73fbf863815b"
      },
      "outputs": [
        {
          "data": {
            "text/html": [
              "<div>\n",
              "<style scoped>\n",
              "    .dataframe tbody tr th:only-of-type {\n",
              "        vertical-align: middle;\n",
              "    }\n",
              "\n",
              "    .dataframe tbody tr th {\n",
              "        vertical-align: top;\n",
              "    }\n",
              "\n",
              "    .dataframe thead th {\n",
              "        text-align: right;\n",
              "    }\n",
              "</style>\n",
              "<table border=\"1\" class=\"dataframe\">\n",
              "  <thead>\n",
              "    <tr style=\"text-align: right;\">\n",
              "      <th></th>\n",
              "      <th>Airline</th>\n",
              "      <th>Source</th>\n",
              "      <th>Destination</th>\n",
              "      <th>Route</th>\n",
              "      <th>Total_Stops</th>\n",
              "      <th>Additional_Info</th>\n",
              "    </tr>\n",
              "  </thead>\n",
              "  <tbody>\n",
              "    <tr>\n",
              "      <th>0</th>\n",
              "      <td>IndiGo</td>\n",
              "      <td>Banglore</td>\n",
              "      <td>New Delhi</td>\n",
              "      <td>BLR → DEL</td>\n",
              "      <td>non-stop</td>\n",
              "      <td>No info</td>\n",
              "    </tr>\n",
              "    <tr>\n",
              "      <th>1</th>\n",
              "      <td>Air India</td>\n",
              "      <td>Kolkata</td>\n",
              "      <td>Banglore</td>\n",
              "      <td>CCU → IXR → BBI → BLR</td>\n",
              "      <td>2 stops</td>\n",
              "      <td>No info</td>\n",
              "    </tr>\n",
              "    <tr>\n",
              "      <th>2</th>\n",
              "      <td>Jet Airways</td>\n",
              "      <td>Delhi</td>\n",
              "      <td>Cochin</td>\n",
              "      <td>DEL → LKO → BOM → COK</td>\n",
              "      <td>2 stops</td>\n",
              "      <td>No info</td>\n",
              "    </tr>\n",
              "    <tr>\n",
              "      <th>3</th>\n",
              "      <td>IndiGo</td>\n",
              "      <td>Kolkata</td>\n",
              "      <td>Banglore</td>\n",
              "      <td>CCU → NAG → BLR</td>\n",
              "      <td>1 stop</td>\n",
              "      <td>No info</td>\n",
              "    </tr>\n",
              "    <tr>\n",
              "      <th>4</th>\n",
              "      <td>IndiGo</td>\n",
              "      <td>Banglore</td>\n",
              "      <td>New Delhi</td>\n",
              "      <td>BLR → NAG → DEL</td>\n",
              "      <td>1 stop</td>\n",
              "      <td>No info</td>\n",
              "    </tr>\n",
              "  </tbody>\n",
              "</table>\n",
              "</div>"
            ],
            "text/plain": [
              "       Airline    Source Destination                  Route Total_Stops  \\\n",
              "0       IndiGo  Banglore   New Delhi              BLR → DEL    non-stop   \n",
              "1    Air India   Kolkata    Banglore  CCU → IXR → BBI → BLR     2 stops   \n",
              "2  Jet Airways     Delhi      Cochin  DEL → LKO → BOM → COK     2 stops   \n",
              "3       IndiGo   Kolkata    Banglore        CCU → NAG → BLR      1 stop   \n",
              "4       IndiGo  Banglore   New Delhi        BLR → NAG → DEL      1 stop   \n",
              "\n",
              "  Additional_Info  \n",
              "0         No info  \n",
              "1         No info  \n",
              "2         No info  \n",
              "3         No info  \n",
              "4         No info  "
            ]
          },
          "execution_count": 36,
          "metadata": {},
          "output_type": "execute_result"
        }
      ],
      "source": [
        "categorical.head()"
      ]
    },
    {
      "cell_type": "code",
      "execution_count": null,
      "id": "f86a6247",
      "metadata": {
        "id": "f86a6247",
        "outputId": "1b229252-341e-4f96-98e3-9d9383e4931e"
      },
      "outputs": [
        {
          "data": {
            "text/plain": [
              "Jet Airways                          3849\n",
              "IndiGo                               2053\n",
              "Air India                            1751\n",
              "Multiple carriers                    1196\n",
              "SpiceJet                              818\n",
              "Vistara                               479\n",
              "Air Asia                              319\n",
              "GoAir                                 194\n",
              "Multiple carriers Premium economy      13\n",
              "Jet Airways Business                    6\n",
              "Vistara Premium economy                 3\n",
              "Trujet                                  1\n",
              "Name: Airline, dtype: int64"
            ]
          },
          "execution_count": 37,
          "metadata": {},
          "output_type": "execute_result"
        }
      ],
      "source": [
        "categorical['Airline'].value_counts()"
      ]
    },
    {
      "cell_type": "markdown",
      "id": "bd407dd3",
      "metadata": {
        "id": "bd407dd3"
      },
      "source": [
        "## Airline vs Price Analysis"
      ]
    },
    {
      "cell_type": "code",
      "execution_count": null,
      "id": "ceedaf74",
      "metadata": {
        "id": "ceedaf74",
        "outputId": "73102257-97ad-4ab9-bcf9-2aa8ad97063e"
      },
      "outputs": [
        {
          "data": {
            "text/plain": [
              "<AxesSubplot: xlabel='Airline', ylabel='Price'>"
            ]
          },
          "execution_count": 38,
          "metadata": {},
          "output_type": "execute_result"
        },
        {
          "data": {
            "image/png": "[encoded data removed]",
            "text/plain": [
              "<Figure size 1500x800 with 1 Axes>"
            ]
          },
          "metadata": {},
          "output_type": "display_data"
        }
      ],
      "source": [
        "plt.figure(figsize=(15,8))\n",
        "sns.boxplot(x='Airline',y='Price',data=df.sort_values('Price',ascending=False))"
      ]
    },
    {
      "cell_type": "markdown",
      "id": "1b7f7cae",
      "metadata": {
        "id": "1b7f7cae"
      },
      "source": [
        "### From graph we can see that Jet Airways Business have the highest Price., Apart from the first Airline almost all are having similar median"
      ]
    },
    {
      "cell_type": "markdown",
      "id": "51257e5c",
      "metadata": {
        "id": "51257e5c"
      },
      "source": [
        "## Perform Total_Stops vs Price Analysis"
      ]
    },
    {
      "cell_type": "code",
      "execution_count": null,
      "id": "1b6b078c",
      "metadata": {
        "id": "1b6b078c",
        "outputId": "9c3940b0-319f-4cc8-ccc0-9b7d2dcb9d12"
      },
      "outputs": [
        {
          "data": {
            "text/plain": [
              "<AxesSubplot: xlabel='Total_Stops', ylabel='Price'>"
            ]
          },
          "execution_count": 39,
          "metadata": {},
          "output_type": "execute_result"
        },
        {
          "data": {
            "image/png": "[encoded data removed]",
            "text/plain": [
              "<Figure size 1500x800 with 1 Axes>"
            ]
          },
          "metadata": {},
          "output_type": "display_data"
        }
      ],
      "source": [
        "plt.figure(figsize=(15,8))\n",
        "sns.boxplot(x='Total_Stops',y='Price',data=df.sort_values('Price',ascending=False))"
      ]
    },
    {
      "cell_type": "code",
      "execution_count": null,
      "id": "9a67e40b",
      "metadata": {
        "id": "9a67e40b"
      },
      "outputs": [],
      "source": [
        "# As Airline is Nominal Categorical data we will perform OneHotEncoding\n",
        "Airline=pd.get_dummies(categorical['Airline'],drop_first=True)"
      ]
    },
    {
      "cell_type": "code",
      "execution_count": null,
      "id": "cd7c9614",
      "metadata": {
        "id": "cd7c9614",
        "outputId": "3c489cc6-0668-485a-a4df-3011043b406d"
      },
      "outputs": [
        {
          "data": {
            "text/html": [
              "<div>\n",
              "<style scoped>\n",
              "    .dataframe tbody tr th:only-of-type {\n",
              "        vertical-align: middle;\n",
              "    }\n",
              "\n",
              "    .dataframe tbody tr th {\n",
              "        vertical-align: top;\n",
              "    }\n",
              "\n",
              "    .dataframe thead th {\n",
              "        text-align: right;\n",
              "    }\n",
              "</style>\n",
              "<table border=\"1\" class=\"dataframe\">\n",
              "  <thead>\n",
              "    <tr style=\"text-align: right;\">\n",
              "      <th></th>\n",
              "      <th>Air India</th>\n",
              "      <th>GoAir</th>\n",
              "      <th>IndiGo</th>\n",
              "      <th>Jet Airways</th>\n",
              "      <th>Jet Airways Business</th>\n",
              "      <th>Multiple carriers</th>\n",
              "      <th>Multiple carriers Premium economy</th>\n",
              "      <th>SpiceJet</th>\n",
              "      <th>Trujet</th>\n",
              "      <th>Vistara</th>\n",
              "      <th>Vistara Premium economy</th>\n",
              "    </tr>\n",
              "  </thead>\n",
              "  <tbody>\n",
              "    <tr>\n",
              "      <th>0</th>\n",
              "      <td>0</td>\n",
              "      <td>0</td>\n",
              "      <td>1</td>\n",
              "      <td>0</td>\n",
              "      <td>0</td>\n",
              "      <td>0</td>\n",
              "      <td>0</td>\n",
              "      <td>0</td>\n",
              "      <td>0</td>\n",
              "      <td>0</td>\n",
              "      <td>0</td>\n",
              "    </tr>\n",
              "    <tr>\n",
              "      <th>1</th>\n",
              "      <td>1</td>\n",
              "      <td>0</td>\n",
              "      <td>0</td>\n",
              "      <td>0</td>\n",
              "      <td>0</td>\n",
              "      <td>0</td>\n",
              "      <td>0</td>\n",
              "      <td>0</td>\n",
              "      <td>0</td>\n",
              "      <td>0</td>\n",
              "      <td>0</td>\n",
              "    </tr>\n",
              "    <tr>\n",
              "      <th>2</th>\n",
              "      <td>0</td>\n",
              "      <td>0</td>\n",
              "      <td>0</td>\n",
              "      <td>1</td>\n",
              "      <td>0</td>\n",
              "      <td>0</td>\n",
              "      <td>0</td>\n",
              "      <td>0</td>\n",
              "      <td>0</td>\n",
              "      <td>0</td>\n",
              "      <td>0</td>\n",
              "    </tr>\n",
              "    <tr>\n",
              "      <th>3</th>\n",
              "      <td>0</td>\n",
              "      <td>0</td>\n",
              "      <td>1</td>\n",
              "      <td>0</td>\n",
              "      <td>0</td>\n",
              "      <td>0</td>\n",
              "      <td>0</td>\n",
              "      <td>0</td>\n",
              "      <td>0</td>\n",
              "      <td>0</td>\n",
              "      <td>0</td>\n",
              "    </tr>\n",
              "    <tr>\n",
              "      <th>4</th>\n",
              "      <td>0</td>\n",
              "      <td>0</td>\n",
              "      <td>1</td>\n",
              "      <td>0</td>\n",
              "      <td>0</td>\n",
              "      <td>0</td>\n",
              "      <td>0</td>\n",
              "      <td>0</td>\n",
              "      <td>0</td>\n",
              "      <td>0</td>\n",
              "      <td>0</td>\n",
              "    </tr>\n",
              "  </tbody>\n",
              "</table>\n",
              "</div>"
            ],
            "text/plain": [
              "   Air India  GoAir  IndiGo  Jet Airways  Jet Airways Business  \\\n",
              "0          0      0       1            0                     0   \n",
              "1          1      0       0            0                     0   \n",
              "2          0      0       0            1                     0   \n",
              "3          0      0       1            0                     0   \n",
              "4          0      0       1            0                     0   \n",
              "\n",
              "   Multiple carriers  Multiple carriers Premium economy  SpiceJet  Trujet  \\\n",
              "0                  0                                  0         0       0   \n",
              "1                  0                                  0         0       0   \n",
              "2                  0                                  0         0       0   \n",
              "3                  0                                  0         0       0   \n",
              "4                  0                                  0         0       0   \n",
              "\n",
              "   Vistara  Vistara Premium economy  \n",
              "0        0                        0  \n",
              "1        0                        0  \n",
              "2        0                        0  \n",
              "3        0                        0  \n",
              "4        0                        0  "
            ]
          },
          "execution_count": 41,
          "metadata": {},
          "output_type": "execute_result"
        }
      ],
      "source": [
        "Airline.head()"
      ]
    },
    {
      "cell_type": "code",
      "execution_count": null,
      "id": "c4a7a627",
      "metadata": {
        "id": "c4a7a627",
        "outputId": "be4c4b47-b9dd-4daf-8ebf-2e6a732734dd"
      },
      "outputs": [
        {
          "data": {
            "text/plain": [
              "Delhi       4536\n",
              "Kolkata     2871\n",
              "Banglore    2197\n",
              "Mumbai       697\n",
              "Chennai      381\n",
              "Name: Source, dtype: int64"
            ]
          },
          "execution_count": 42,
          "metadata": {},
          "output_type": "execute_result"
        }
      ],
      "source": [
        "categorical['Source'].value_counts()"
      ]
    },
    {
      "cell_type": "code",
      "execution_count": null,
      "id": "a4859023",
      "metadata": {
        "id": "a4859023",
        "outputId": "5293b624-a89b-446a-a443-5d37c5d934f1"
      },
      "outputs": [
        {
          "data": {
            "text/plain": [
              "<seaborn.axisgrid.FacetGrid at 0x228c52df2b0>"
            ]
          },
          "execution_count": 43,
          "metadata": {},
          "output_type": "execute_result"
        },
        {
          "data": {
            "text/plain": [
              "<Figure size 1500x1500 with 0 Axes>"
            ]
          },
          "metadata": {},
          "output_type": "display_data"
        },
        {
          "data": {
            "image/png": "[encoded data removed]",
            "text/plain": [
              "<Figure size 500x500 with 1 Axes>"
            ]
          },
          "metadata": {},
          "output_type": "display_data"
        }
      ],
      "source": [
        "#Source vs Price\n",
        "\n",
        "plt.figure(figsize=(15,15))\n",
        "sns.catplot(x='Source',y='Price',data=df.sort_values('Price',ascending=False),kind='boxen')"
      ]
    },
    {
      "cell_type": "code",
      "execution_count": null,
      "id": "a421e562",
      "metadata": {
        "id": "a421e562",
        "outputId": "6c9ad1b4-7299-4296-8cb4-1435b231e4ee"
      },
      "outputs": [
        {
          "data": {
            "text/html": [
              "<div>\n",
              "<style scoped>\n",
              "    .dataframe tbody tr th:only-of-type {\n",
              "        vertical-align: middle;\n",
              "    }\n",
              "\n",
              "    .dataframe tbody tr th {\n",
              "        vertical-align: top;\n",
              "    }\n",
              "\n",
              "    .dataframe thead th {\n",
              "        text-align: right;\n",
              "    }\n",
              "</style>\n",
              "<table border=\"1\" class=\"dataframe\">\n",
              "  <thead>\n",
              "    <tr style=\"text-align: right;\">\n",
              "      <th></th>\n",
              "      <th>Chennai</th>\n",
              "      <th>Delhi</th>\n",
              "      <th>Kolkata</th>\n",
              "      <th>Mumbai</th>\n",
              "    </tr>\n",
              "  </thead>\n",
              "  <tbody>\n",
              "    <tr>\n",
              "      <th>0</th>\n",
              "      <td>0</td>\n",
              "      <td>0</td>\n",
              "      <td>0</td>\n",
              "      <td>0</td>\n",
              "    </tr>\n",
              "    <tr>\n",
              "      <th>1</th>\n",
              "      <td>0</td>\n",
              "      <td>0</td>\n",
              "      <td>1</td>\n",
              "      <td>0</td>\n",
              "    </tr>\n",
              "    <tr>\n",
              "      <th>2</th>\n",
              "      <td>0</td>\n",
              "      <td>1</td>\n",
              "      <td>0</td>\n",
              "      <td>0</td>\n",
              "    </tr>\n",
              "    <tr>\n",
              "      <th>3</th>\n",
              "      <td>0</td>\n",
              "      <td>0</td>\n",
              "      <td>1</td>\n",
              "      <td>0</td>\n",
              "    </tr>\n",
              "    <tr>\n",
              "      <th>4</th>\n",
              "      <td>0</td>\n",
              "      <td>0</td>\n",
              "      <td>0</td>\n",
              "      <td>0</td>\n",
              "    </tr>\n",
              "  </tbody>\n",
              "</table>\n",
              "</div>"
            ],
            "text/plain": [
              "   Chennai  Delhi  Kolkata  Mumbai\n",
              "0        0      0        0       0\n",
              "1        0      0        1       0\n",
              "2        0      1        0       0\n",
              "3        0      0        1       0\n",
              "4        0      0        0       0"
            ]
          },
          "execution_count": 44,
          "metadata": {},
          "output_type": "execute_result"
        }
      ],
      "source": [
        "#encoding of source column\n",
        "source=pd.get_dummies(categorical['Source'],drop_first=True)\n",
        "source.head()"
      ]
    },
    {
      "cell_type": "code",
      "execution_count": null,
      "id": "5f104f7b",
      "metadata": {
        "id": "5f104f7b",
        "outputId": "d51bc2b3-fce5-4267-e467-9f8628ee0a23"
      },
      "outputs": [
        {
          "data": {
            "text/plain": [
              "Cochin       4536\n",
              "Banglore     2871\n",
              "Delhi        1265\n",
              "New Delhi     932\n",
              "Hyderabad     697\n",
              "Kolkata       381\n",
              "Name: Destination, dtype: int64"
            ]
          },
          "execution_count": 45,
          "metadata": {},
          "output_type": "execute_result"
        }
      ],
      "source": [
        "categorical['Destination'].value_counts()"
      ]
    },
    {
      "cell_type": "code",
      "execution_count": null,
      "id": "e3fbfc2f",
      "metadata": {
        "id": "e3fbfc2f",
        "outputId": "38137993-305f-4e40-d0d6-12c0777c8767"
      },
      "outputs": [
        {
          "data": {
            "text/plain": [
              "<AxesSubplot: xlabel='Destination', ylabel='Price'>"
            ]
          },
          "execution_count": 46,
          "metadata": {},
          "output_type": "execute_result"
        },
        {
          "data": {
            "image/png": "[encoded data removed]",
            "text/plain": [
              "<Figure size 1500x800 with 1 Axes>"
            ]
          },
          "metadata": {},
          "output_type": "display_data"
        }
      ],
      "source": [
        "plt.figure(figsize=(15,8))\n",
        "sns.boxplot(x='Destination',y='Price',data=df.sort_values('Price',ascending=False))"
      ]
    },
    {
      "cell_type": "code",
      "execution_count": null,
      "id": "138d0b30",
      "metadata": {
        "id": "138d0b30",
        "outputId": "e60a4031-2346-4e8b-fdc8-9d21cb2d5fba"
      },
      "outputs": [
        {
          "data": {
            "text/html": [
              "<div>\n",
              "<style scoped>\n",
              "    .dataframe tbody tr th:only-of-type {\n",
              "        vertical-align: middle;\n",
              "    }\n",
              "\n",
              "    .dataframe tbody tr th {\n",
              "        vertical-align: top;\n",
              "    }\n",
              "\n",
              "    .dataframe thead th {\n",
              "        text-align: right;\n",
              "    }\n",
              "</style>\n",
              "<table border=\"1\" class=\"dataframe\">\n",
              "  <thead>\n",
              "    <tr style=\"text-align: right;\">\n",
              "      <th></th>\n",
              "      <th>Cochin</th>\n",
              "      <th>Delhi</th>\n",
              "      <th>Hyderabad</th>\n",
              "      <th>Kolkata</th>\n",
              "      <th>New Delhi</th>\n",
              "    </tr>\n",
              "  </thead>\n",
              "  <tbody>\n",
              "    <tr>\n",
              "      <th>0</th>\n",
              "      <td>0</td>\n",
              "      <td>0</td>\n",
              "      <td>0</td>\n",
              "      <td>0</td>\n",
              "      <td>1</td>\n",
              "    </tr>\n",
              "    <tr>\n",
              "      <th>1</th>\n",
              "      <td>0</td>\n",
              "      <td>0</td>\n",
              "      <td>0</td>\n",
              "      <td>0</td>\n",
              "      <td>0</td>\n",
              "    </tr>\n",
              "    <tr>\n",
              "      <th>2</th>\n",
              "      <td>1</td>\n",
              "      <td>0</td>\n",
              "      <td>0</td>\n",
              "      <td>0</td>\n",
              "      <td>0</td>\n",
              "    </tr>\n",
              "    <tr>\n",
              "      <th>3</th>\n",
              "      <td>0</td>\n",
              "      <td>0</td>\n",
              "      <td>0</td>\n",
              "      <td>0</td>\n",
              "      <td>0</td>\n",
              "    </tr>\n",
              "    <tr>\n",
              "      <th>4</th>\n",
              "      <td>0</td>\n",
              "      <td>0</td>\n",
              "      <td>0</td>\n",
              "      <td>0</td>\n",
              "      <td>1</td>\n",
              "    </tr>\n",
              "  </tbody>\n",
              "</table>\n",
              "</div>"
            ],
            "text/plain": [
              "   Cochin  Delhi  Hyderabad  Kolkata  New Delhi\n",
              "0       0      0          0        0          1\n",
              "1       0      0          0        0          0\n",
              "2       1      0          0        0          0\n",
              "3       0      0          0        0          0\n",
              "4       0      0          0        0          1"
            ]
          },
          "execution_count": 47,
          "metadata": {},
          "output_type": "execute_result"
        }
      ],
      "source": [
        "#encoding of destination column\n",
        "destination=pd.get_dummies(categorical['Destination'],drop_first=True)\n",
        "destination.head()"
      ]
    },
    {
      "cell_type": "code",
      "execution_count": null,
      "id": "bf7fc86c",
      "metadata": {
        "id": "bf7fc86c",
        "outputId": "66a3846c-6904-4af6-efba-c748acb1589c"
      },
      "outputs": [
        {
          "data": {
            "text/plain": [
              "DEL → BOM → COK          2376\n",
              "BLR → DEL                1552\n",
              "CCU → BOM → BLR           979\n",
              "CCU → BLR                 724\n",
              "BOM → HYD                 621\n",
              "                         ... \n",
              "BOM → NDC → HYD             1\n",
              "BOM → COK → MAA → HYD       1\n",
              "BOM → BBI → HYD             1\n",
              "BOM → RPR → VTZ → HYD       1\n",
              "BOM → JAI → DEL → HYD       1\n",
              "Name: Route, Length: 128, dtype: int64"
            ]
          },
          "execution_count": 48,
          "metadata": {},
          "output_type": "execute_result"
        }
      ],
      "source": [
        "# now work on route column\n",
        "categorical['Route'].value_counts()"
      ]
    },
    {
      "cell_type": "code",
      "execution_count": null,
      "id": "be501dc5",
      "metadata": {
        "id": "be501dc5"
      },
      "outputs": [],
      "source": [
        "categorical['Route1']=categorical['Route'].str.split('→').str[0]\n",
        "categorical['Route2']=categorical['Route'].str.split('→').str[1]\n",
        "categorical['Route3']=categorical['Route'].str.split('→').str[2]\n",
        "categorical['Route4']=categorical['Route'].str.split('→').str[3]\n",
        "categorical['Route5']=categorical['Route'].str.split('→').str[4]"
      ]
    },
    {
      "cell_type": "code",
      "execution_count": null,
      "id": "822d6d79",
      "metadata": {
        "scrolled": true,
        "id": "822d6d79",
        "outputId": "8b7a2611-5ec3-4715-bd1f-12d773151b77"
      },
      "outputs": [
        {
          "data": {
            "text/html": [
              "<div>\n",
              "<style scoped>\n",
              "    .dataframe tbody tr th:only-of-type {\n",
              "        vertical-align: middle;\n",
              "    }\n",
              "\n",
              "    .dataframe tbody tr th {\n",
              "        vertical-align: top;\n",
              "    }\n",
              "\n",
              "    .dataframe thead th {\n",
              "        text-align: right;\n",
              "    }\n",
              "</style>\n",
              "<table border=\"1\" class=\"dataframe\">\n",
              "  <thead>\n",
              "    <tr style=\"text-align: right;\">\n",
              "      <th></th>\n",
              "      <th>Airline</th>\n",
              "      <th>Source</th>\n",
              "      <th>Destination</th>\n",
              "      <th>Route</th>\n",
              "      <th>Total_Stops</th>\n",
              "      <th>Additional_Info</th>\n",
              "      <th>Route1</th>\n",
              "      <th>Route2</th>\n",
              "      <th>Route3</th>\n",
              "      <th>Route4</th>\n",
              "      <th>Route5</th>\n",
              "    </tr>\n",
              "  </thead>\n",
              "  <tbody>\n",
              "    <tr>\n",
              "      <th>0</th>\n",
              "      <td>IndiGo</td>\n",
              "      <td>Banglore</td>\n",
              "      <td>New Delhi</td>\n",
              "      <td>BLR → DEL</td>\n",
              "      <td>non-stop</td>\n",
              "      <td>No info</td>\n",
              "      <td>BLR</td>\n",
              "      <td>DEL</td>\n",
              "      <td>NaN</td>\n",
              "      <td>NaN</td>\n",
              "      <td>NaN</td>\n",
              "    </tr>\n",
              "    <tr>\n",
              "      <th>1</th>\n",
              "      <td>Air India</td>\n",
              "      <td>Kolkata</td>\n",
              "      <td>Banglore</td>\n",
              "      <td>CCU → IXR → BBI → BLR</td>\n",
              "      <td>2 stops</td>\n",
              "      <td>No info</td>\n",
              "      <td>CCU</td>\n",
              "      <td>IXR</td>\n",
              "      <td>BBI</td>\n",
              "      <td>BLR</td>\n",
              "      <td>NaN</td>\n",
              "    </tr>\n",
              "    <tr>\n",
              "      <th>2</th>\n",
              "      <td>Jet Airways</td>\n",
              "      <td>Delhi</td>\n",
              "      <td>Cochin</td>\n",
              "      <td>DEL → LKO → BOM → COK</td>\n",
              "      <td>2 stops</td>\n",
              "      <td>No info</td>\n",
              "      <td>DEL</td>\n",
              "      <td>LKO</td>\n",
              "      <td>BOM</td>\n",
              "      <td>COK</td>\n",
              "      <td>NaN</td>\n",
              "    </tr>\n",
              "    <tr>\n",
              "      <th>3</th>\n",
              "      <td>IndiGo</td>\n",
              "      <td>Kolkata</td>\n",
              "      <td>Banglore</td>\n",
              "      <td>CCU → NAG → BLR</td>\n",
              "      <td>1 stop</td>\n",
              "      <td>No info</td>\n",
              "      <td>CCU</td>\n",
              "      <td>NAG</td>\n",
              "      <td>BLR</td>\n",
              "      <td>NaN</td>\n",
              "      <td>NaN</td>\n",
              "    </tr>\n",
              "    <tr>\n",
              "      <th>4</th>\n",
              "      <td>IndiGo</td>\n",
              "      <td>Banglore</td>\n",
              "      <td>New Delhi</td>\n",
              "      <td>BLR → NAG → DEL</td>\n",
              "      <td>1 stop</td>\n",
              "      <td>No info</td>\n",
              "      <td>BLR</td>\n",
              "      <td>NAG</td>\n",
              "      <td>DEL</td>\n",
              "      <td>NaN</td>\n",
              "      <td>NaN</td>\n",
              "    </tr>\n",
              "  </tbody>\n",
              "</table>\n",
              "</div>"
            ],
            "text/plain": [
              "       Airline    Source Destination                  Route Total_Stops  \\\n",
              "0       IndiGo  Banglore   New Delhi              BLR → DEL    non-stop   \n",
              "1    Air India   Kolkata    Banglore  CCU → IXR → BBI → BLR     2 stops   \n",
              "2  Jet Airways     Delhi      Cochin  DEL → LKO → BOM → COK     2 stops   \n",
              "3       IndiGo   Kolkata    Banglore        CCU → NAG → BLR      1 stop   \n",
              "4       IndiGo  Banglore   New Delhi        BLR → NAG → DEL      1 stop   \n",
              "\n",
              "  Additional_Info Route1 Route2 Route3 Route4 Route5  \n",
              "0         No info   BLR     DEL    NaN    NaN    NaN  \n",
              "1         No info   CCU    IXR    BBI     BLR    NaN  \n",
              "2         No info   DEL    LKO    BOM     COK    NaN  \n",
              "3         No info   CCU    NAG     BLR    NaN    NaN  \n",
              "4         No info   BLR    NAG     DEL    NaN    NaN  "
            ]
          },
          "execution_count": 50,
          "metadata": {},
          "output_type": "execute_result"
        }
      ],
      "source": [
        "categorical.head()"
      ]
    },
    {
      "cell_type": "code",
      "execution_count": null,
      "id": "9c85368e",
      "metadata": {
        "id": "9c85368e"
      },
      "outputs": [],
      "source": [
        "drop_col(categorical,'Route')"
      ]
    },
    {
      "cell_type": "code",
      "execution_count": null,
      "id": "cd2facfb",
      "metadata": {
        "id": "cd2facfb",
        "outputId": "ba15b989-d210-4fed-df4b-2d6db7300915"
      },
      "outputs": [
        {
          "data": {
            "text/plain": [
              "Airline                0\n",
              "Source                 0\n",
              "Destination            0\n",
              "Total_Stops            0\n",
              "Additional_Info        0\n",
              "Route1                 0\n",
              "Route2                 0\n",
              "Route3              3491\n",
              "Route4              9116\n",
              "Route5             10636\n",
              "dtype: int64"
            ]
          },
          "execution_count": 52,
          "metadata": {},
          "output_type": "execute_result"
        }
      ],
      "source": [
        "categorical.isnull().sum()"
      ]
    },
    {
      "cell_type": "code",
      "execution_count": null,
      "id": "6b8634ef",
      "metadata": {
        "id": "6b8634ef",
        "outputId": "0c4ca7ad-5572-48d0-b532-71420c1afbff"
      },
      "outputs": [
        {
          "data": {
            "text/plain": [
              "Index(['Airline', 'Source', 'Destination', 'Total_Stops', 'Additional_Info',\n",
              "       'Route1', 'Route2', 'Route3', 'Route4', 'Route5'],\n",
              "      dtype='object')"
            ]
          },
          "execution_count": 53,
          "metadata": {},
          "output_type": "execute_result"
        }
      ],
      "source": [
        "categorical.columns"
      ]
    },
    {
      "cell_type": "code",
      "execution_count": null,
      "id": "44291522",
      "metadata": {
        "id": "44291522"
      },
      "outputs": [],
      "source": [
        "for i in ['Route3', 'Route4', 'Route5']:\n",
        "    categorical[i].fillna('None',inplace=True)"
      ]
    },
    {
      "cell_type": "code",
      "execution_count": null,
      "id": "72f660be",
      "metadata": {
        "id": "72f660be",
        "outputId": "f872277f-00b3-4e0e-e4aa-5f958c6fc207"
      },
      "outputs": [
        {
          "data": {
            "text/plain": [
              "Airline            0\n",
              "Source             0\n",
              "Destination        0\n",
              "Total_Stops        0\n",
              "Additional_Info    0\n",
              "Route1             0\n",
              "Route2             0\n",
              "Route3             0\n",
              "Route4             0\n",
              "Route5             0\n",
              "dtype: int64"
            ]
          },
          "execution_count": 55,
          "metadata": {},
          "output_type": "execute_result"
        }
      ],
      "source": [
        "categorical.isnull().sum()"
      ]
    },
    {
      "cell_type": "code",
      "execution_count": null,
      "id": "e265bc81",
      "metadata": {
        "id": "e265bc81",
        "outputId": "53afeb56-00e7-45b2-da51-2f64cc3a9e0c"
      },
      "outputs": [
        {
          "name": "stdout",
          "output_type": "stream",
          "text": [
            "Airline has total 12 categories\n",
            "Source has total 5 categories\n",
            "Destination has total 6 categories\n",
            "Total_Stops has total 5 categories\n",
            "Additional_Info has total 10 categories\n",
            "Route1 has total 5 categories\n",
            "Route2 has total 45 categories\n",
            "Route3 has total 30 categories\n",
            "Route4 has total 14 categories\n",
            "Route5 has total 6 categories\n"
          ]
        }
      ],
      "source": [
        "for i in categorical.columns:\n",
        "    print('{} has total {} categories'.format(i,len(categorical[i].value_counts())))"
      ]
    },
    {
      "cell_type": "code",
      "execution_count": null,
      "id": "73443cbd",
      "metadata": {
        "id": "73443cbd",
        "outputId": "0f9148f3-aea7-4f36-cb0c-c5697355d154"
      },
      "outputs": [
        {
          "data": {
            "text/plain": [
              "<AxesSubplot: xlabel='Arrival_Time_hour', ylabel='Price'>"
            ]
          },
          "execution_count": 57,
          "metadata": {},
          "output_type": "execute_result"
        },
        {
          "data": {
            "image/png": "[encoded data removed]",
            "text/plain": [
              "<Figure size 640x480 with 2 Axes>"
            ]
          },
          "metadata": {},
          "output_type": "display_data"
        }
      ],
      "source": [
        "df.plot.hexbin(x='Arrival_Time_hour',y='Price',gridsize=15)"
      ]
    },
    {
      "cell_type": "code",
      "execution_count": null,
      "id": "95504ff4",
      "metadata": {
        "id": "95504ff4"
      },
      "outputs": [],
      "source": [
        "# Applying label encoder\n",
        "from sklearn.preprocessing import LabelEncoder\n",
        "encoder = LabelEncoder()"
      ]
    },
    {
      "cell_type": "code",
      "execution_count": null,
      "id": "6de1ee92",
      "metadata": {
        "id": "6de1ee92"
      },
      "outputs": [],
      "source": [
        "for i in ['Route1', 'Route2', 'Route3', 'Route4', 'Route5']:\n",
        "    categorical[i]=encoder.fit_transform(categorical[i])"
      ]
    },
    {
      "cell_type": "code",
      "execution_count": null,
      "id": "4cbac192",
      "metadata": {
        "id": "4cbac192",
        "outputId": "167075d2-98ea-456b-e883-3fb2e7ef7b89"
      },
      "outputs": [
        {
          "data": {
            "text/html": [
              "<div>\n",
              "<style scoped>\n",
              "    .dataframe tbody tr th:only-of-type {\n",
              "        vertical-align: middle;\n",
              "    }\n",
              "\n",
              "    .dataframe tbody tr th {\n",
              "        vertical-align: top;\n",
              "    }\n",
              "\n",
              "    .dataframe thead th {\n",
              "        text-align: right;\n",
              "    }\n",
              "</style>\n",
              "<table border=\"1\" class=\"dataframe\">\n",
              "  <thead>\n",
              "    <tr style=\"text-align: right;\">\n",
              "      <th></th>\n",
              "      <th>Airline</th>\n",
              "      <th>Source</th>\n",
              "      <th>Destination</th>\n",
              "      <th>Total_Stops</th>\n",
              "      <th>Additional_Info</th>\n",
              "      <th>Route1</th>\n",
              "      <th>Route2</th>\n",
              "      <th>Route3</th>\n",
              "      <th>Route4</th>\n",
              "      <th>Route5</th>\n",
              "    </tr>\n",
              "  </thead>\n",
              "  <tbody>\n",
              "    <tr>\n",
              "      <th>0</th>\n",
              "      <td>IndiGo</td>\n",
              "      <td>Banglore</td>\n",
              "      <td>New Delhi</td>\n",
              "      <td>non-stop</td>\n",
              "      <td>No info</td>\n",
              "      <td>0</td>\n",
              "      <td>13</td>\n",
              "      <td>29</td>\n",
              "      <td>13</td>\n",
              "      <td>5</td>\n",
              "    </tr>\n",
              "    <tr>\n",
              "      <th>1</th>\n",
              "      <td>Air India</td>\n",
              "      <td>Kolkata</td>\n",
              "      <td>Banglore</td>\n",
              "      <td>2 stops</td>\n",
              "      <td>No info</td>\n",
              "      <td>2</td>\n",
              "      <td>25</td>\n",
              "      <td>1</td>\n",
              "      <td>3</td>\n",
              "      <td>5</td>\n",
              "    </tr>\n",
              "    <tr>\n",
              "      <th>2</th>\n",
              "      <td>Jet Airways</td>\n",
              "      <td>Delhi</td>\n",
              "      <td>Cochin</td>\n",
              "      <td>2 stops</td>\n",
              "      <td>No info</td>\n",
              "      <td>3</td>\n",
              "      <td>32</td>\n",
              "      <td>4</td>\n",
              "      <td>5</td>\n",
              "      <td>5</td>\n",
              "    </tr>\n",
              "    <tr>\n",
              "      <th>3</th>\n",
              "      <td>IndiGo</td>\n",
              "      <td>Kolkata</td>\n",
              "      <td>Banglore</td>\n",
              "      <td>1 stop</td>\n",
              "      <td>No info</td>\n",
              "      <td>2</td>\n",
              "      <td>34</td>\n",
              "      <td>3</td>\n",
              "      <td>13</td>\n",
              "      <td>5</td>\n",
              "    </tr>\n",
              "    <tr>\n",
              "      <th>4</th>\n",
              "      <td>IndiGo</td>\n",
              "      <td>Banglore</td>\n",
              "      <td>New Delhi</td>\n",
              "      <td>1 stop</td>\n",
              "      <td>No info</td>\n",
              "      <td>0</td>\n",
              "      <td>34</td>\n",
              "      <td>8</td>\n",
              "      <td>13</td>\n",
              "      <td>5</td>\n",
              "    </tr>\n",
              "  </tbody>\n",
              "</table>\n",
              "</div>"
            ],
            "text/plain": [
              "       Airline    Source Destination Total_Stops Additional_Info  Route1  \\\n",
              "0       IndiGo  Banglore   New Delhi    non-stop         No info       0   \n",
              "1    Air India   Kolkata    Banglore     2 stops         No info       2   \n",
              "2  Jet Airways     Delhi      Cochin     2 stops         No info       3   \n",
              "3       IndiGo   Kolkata    Banglore      1 stop         No info       2   \n",
              "4       IndiGo  Banglore   New Delhi      1 stop         No info       0   \n",
              "\n",
              "   Route2  Route3  Route4  Route5  \n",
              "0      13      29      13       5  \n",
              "1      25       1       3       5  \n",
              "2      32       4       5       5  \n",
              "3      34       3      13       5  \n",
              "4      34       8      13       5  "
            ]
          },
          "execution_count": 60,
          "metadata": {},
          "output_type": "execute_result"
        }
      ],
      "source": [
        "categorical.head()"
      ]
    },
    {
      "cell_type": "code",
      "execution_count": null,
      "id": "89ff6678",
      "metadata": {
        "id": "89ff6678"
      },
      "outputs": [],
      "source": [
        "drop_col(categorical,'Additional_Info')"
      ]
    },
    {
      "cell_type": "code",
      "execution_count": null,
      "id": "6f71e8ad",
      "metadata": {
        "id": "6f71e8ad",
        "outputId": "1669552a-d5f4-4be5-9ec6-04774222b95e"
      },
      "outputs": [
        {
          "data": {
            "text/plain": [
              "array(['non-stop', '2 stops', '1 stop', '3 stops', '4 stops'],\n",
              "      dtype=object)"
            ]
          },
          "execution_count": 62,
          "metadata": {},
          "output_type": "execute_result"
        }
      ],
      "source": [
        "categorical['Total_Stops'].unique()"
      ]
    },
    {
      "cell_type": "code",
      "execution_count": null,
      "id": "7976e05b",
      "metadata": {
        "id": "7976e05b"
      },
      "outputs": [],
      "source": [
        "# encoding Total stops\n",
        "dict={'non-stop':0, '2 stops':2, '1 stop':1, '3 stops':3, '4 stops':4}\n",
        "categorical['Total_Stops']=categorical['Total_Stops'].map(dict)"
      ]
    },
    {
      "cell_type": "code",
      "execution_count": null,
      "id": "35bb5a12",
      "metadata": {
        "id": "35bb5a12",
        "outputId": "374c0c2f-c93e-4f3e-d15f-35a47887ad51"
      },
      "outputs": [
        {
          "data": {
            "text/plain": [
              "0        0\n",
              "1        2\n",
              "2        2\n",
              "3        1\n",
              "4        1\n",
              "        ..\n",
              "10678    0\n",
              "10679    0\n",
              "10680    0\n",
              "10681    0\n",
              "10682    2\n",
              "Name: Total_Stops, Length: 10682, dtype: int64"
            ]
          },
          "execution_count": 64,
          "metadata": {},
          "output_type": "execute_result"
        }
      ],
      "source": [
        "categorical['Total_Stops']"
      ]
    },
    {
      "cell_type": "code",
      "execution_count": null,
      "id": "27506f7c",
      "metadata": {
        "id": "27506f7c"
      },
      "outputs": [],
      "source": [
        "drop_col(categorical,'Source')\n",
        "drop_col(categorical,'Destination')\n",
        "drop_col(categorical,'Airline')"
      ]
    },
    {
      "cell_type": "markdown",
      "id": "e8416c29",
      "metadata": {
        "id": "e8416c29"
      },
      "source": [
        "### After all preprocessing, Our data is ready for the modeling"
      ]
    },
    {
      "cell_type": "code",
      "execution_count": null,
      "id": "ebc30708",
      "metadata": {
        "id": "ebc30708"
      },
      "outputs": [],
      "source": [
        "final_df=pd.concat([categorical,Airline,source,destination,df[continuous_col]],axis=1)"
      ]
    },
    {
      "cell_type": "code",
      "execution_count": null,
      "id": "7b7a513b",
      "metadata": {
        "id": "7b7a513b",
        "outputId": "b4c3e772-eef8-487d-9848-b6ad44328eea"
      },
      "outputs": [
        {
          "data": {
            "text/html": [
              "<div>\n",
              "<style scoped>\n",
              "    .dataframe tbody tr th:only-of-type {\n",
              "        vertical-align: middle;\n",
              "    }\n",
              "\n",
              "    .dataframe tbody tr th {\n",
              "        vertical-align: top;\n",
              "    }\n",
              "\n",
              "    .dataframe thead th {\n",
              "        text-align: right;\n",
              "    }\n",
              "</style>\n",
              "<table border=\"1\" class=\"dataframe\">\n",
              "  <thead>\n",
              "    <tr style=\"text-align: right;\">\n",
              "      <th></th>\n",
              "      <th>Total_Stops</th>\n",
              "      <th>Route1</th>\n",
              "      <th>Route2</th>\n",
              "      <th>Route3</th>\n",
              "      <th>Route4</th>\n",
              "      <th>Route5</th>\n",
              "      <th>Air India</th>\n",
              "      <th>GoAir</th>\n",
              "      <th>IndiGo</th>\n",
              "      <th>Jet Airways</th>\n",
              "      <th>...</th>\n",
              "      <th>New Delhi</th>\n",
              "      <th>Price</th>\n",
              "      <th>journey_day</th>\n",
              "      <th>journey_month</th>\n",
              "      <th>Dep_Time_hour</th>\n",
              "      <th>Dep_Time_min</th>\n",
              "      <th>Arrival_Time_hour</th>\n",
              "      <th>Arrival_Time_min</th>\n",
              "      <th>Dur_Hour</th>\n",
              "      <th>Dur_Min</th>\n",
              "    </tr>\n",
              "  </thead>\n",
              "  <tbody>\n",
              "    <tr>\n",
              "      <th>0</th>\n",
              "      <td>0</td>\n",
              "      <td>0</td>\n",
              "      <td>13</td>\n",
              "      <td>29</td>\n",
              "      <td>13</td>\n",
              "      <td>5</td>\n",
              "      <td>0</td>\n",
              "      <td>0</td>\n",
              "      <td>1</td>\n",
              "      <td>0</td>\n",
              "      <td>...</td>\n",
              "      <td>1</td>\n",
              "      <td>3897</td>\n",
              "      <td>24</td>\n",
              "      <td>3</td>\n",
              "      <td>22</td>\n",
              "      <td>20</td>\n",
              "      <td>1</td>\n",
              "      <td>10</td>\n",
              "      <td>2</td>\n",
              "      <td>50</td>\n",
              "    </tr>\n",
              "    <tr>\n",
              "      <th>1</th>\n",
              "      <td>2</td>\n",
              "      <td>2</td>\n",
              "      <td>25</td>\n",
              "      <td>1</td>\n",
              "      <td>3</td>\n",
              "      <td>5</td>\n",
              "      <td>1</td>\n",
              "      <td>0</td>\n",
              "      <td>0</td>\n",
              "      <td>0</td>\n",
              "      <td>...</td>\n",
              "      <td>0</td>\n",
              "      <td>7662</td>\n",
              "      <td>5</td>\n",
              "      <td>1</td>\n",
              "      <td>5</td>\n",
              "      <td>50</td>\n",
              "      <td>13</td>\n",
              "      <td>15</td>\n",
              "      <td>7</td>\n",
              "      <td>25</td>\n",
              "    </tr>\n",
              "    <tr>\n",
              "      <th>2</th>\n",
              "      <td>2</td>\n",
              "      <td>3</td>\n",
              "      <td>32</td>\n",
              "      <td>4</td>\n",
              "      <td>5</td>\n",
              "      <td>5</td>\n",
              "      <td>0</td>\n",
              "      <td>0</td>\n",
              "      <td>0</td>\n",
              "      <td>1</td>\n",
              "      <td>...</td>\n",
              "      <td>0</td>\n",
              "      <td>13882</td>\n",
              "      <td>6</td>\n",
              "      <td>9</td>\n",
              "      <td>9</td>\n",
              "      <td>25</td>\n",
              "      <td>4</td>\n",
              "      <td>25</td>\n",
              "      <td>19</td>\n",
              "      <td>0</td>\n",
              "    </tr>\n",
              "    <tr>\n",
              "      <th>3</th>\n",
              "      <td>1</td>\n",
              "      <td>2</td>\n",
              "      <td>34</td>\n",
              "      <td>3</td>\n",
              "      <td>13</td>\n",
              "      <td>5</td>\n",
              "      <td>0</td>\n",
              "      <td>0</td>\n",
              "      <td>1</td>\n",
              "      <td>0</td>\n",
              "      <td>...</td>\n",
              "      <td>0</td>\n",
              "      <td>6218</td>\n",
              "      <td>5</td>\n",
              "      <td>12</td>\n",
              "      <td>18</td>\n",
              "      <td>5</td>\n",
              "      <td>23</td>\n",
              "      <td>30</td>\n",
              "      <td>5</td>\n",
              "      <td>25</td>\n",
              "    </tr>\n",
              "    <tr>\n",
              "      <th>4</th>\n",
              "      <td>1</td>\n",
              "      <td>0</td>\n",
              "      <td>34</td>\n",
              "      <td>8</td>\n",
              "      <td>13</td>\n",
              "      <td>5</td>\n",
              "      <td>0</td>\n",
              "      <td>0</td>\n",
              "      <td>1</td>\n",
              "      <td>0</td>\n",
              "      <td>...</td>\n",
              "      <td>1</td>\n",
              "      <td>13302</td>\n",
              "      <td>3</td>\n",
              "      <td>1</td>\n",
              "      <td>16</td>\n",
              "      <td>50</td>\n",
              "      <td>21</td>\n",
              "      <td>35</td>\n",
              "      <td>4</td>\n",
              "      <td>45</td>\n",
              "    </tr>\n",
              "  </tbody>\n",
              "</table>\n",
              "<p>5 rows × 35 columns</p>\n",
              "</div>"
            ],
            "text/plain": [
              "   Total_Stops  Route1  Route2  Route3  Route4  Route5  Air India  GoAir  \\\n",
              "0            0       0      13      29      13       5          0      0   \n",
              "1            2       2      25       1       3       5          1      0   \n",
              "2            2       3      32       4       5       5          0      0   \n",
              "3            1       2      34       3      13       5          0      0   \n",
              "4            1       0      34       8      13       5          0      0   \n",
              "\n",
              "   IndiGo  Jet Airways  ...  New Delhi  Price  journey_day  journey_month  \\\n",
              "0       1            0  ...          1   3897           24              3   \n",
              "1       0            0  ...          0   7662            5              1   \n",
              "2       0            1  ...          0  13882            6              9   \n",
              "3       1            0  ...          0   6218            5             12   \n",
              "4       1            0  ...          1  13302            3              1   \n",
              "\n",
              "   Dep_Time_hour  Dep_Time_min  Arrival_Time_hour  Arrival_Time_min  Dur_Hour  \\\n",
              "0             22            20                  1                10         2   \n",
              "1              5            50                 13                15         7   \n",
              "2              9            25                  4                25        19   \n",
              "3             18             5                 23                30         5   \n",
              "4             16            50                 21                35         4   \n",
              "\n",
              "   Dur_Min  \n",
              "0       50  \n",
              "1       25  \n",
              "2        0  \n",
              "3       25  \n",
              "4       45  \n",
              "\n",
              "[5 rows x 35 columns]"
            ]
          },
          "execution_count": 67,
          "metadata": {},
          "output_type": "execute_result"
        }
      ],
      "source": [
        "final_df.head()"
      ]
    },
    {
      "cell_type": "code",
      "execution_count": null,
      "id": "2c0abd22",
      "metadata": {
        "id": "2c0abd22",
        "outputId": "a4369965-8b4c-4e67-8c70-84fc4ff122f2"
      },
      "outputs": [
        {
          "data": {
            "text/html": [
              "<div>\n",
              "<style scoped>\n",
              "    .dataframe tbody tr th:only-of-type {\n",
              "        vertical-align: middle;\n",
              "    }\n",
              "\n",
              "    .dataframe tbody tr th {\n",
              "        vertical-align: top;\n",
              "    }\n",
              "\n",
              "    .dataframe thead th {\n",
              "        text-align: right;\n",
              "    }\n",
              "</style>\n",
              "<table border=\"1\" class=\"dataframe\">\n",
              "  <thead>\n",
              "    <tr style=\"text-align: right;\">\n",
              "      <th></th>\n",
              "      <th>Total_Stops</th>\n",
              "      <th>Route1</th>\n",
              "      <th>Route2</th>\n",
              "      <th>Route3</th>\n",
              "      <th>Route4</th>\n",
              "      <th>Route5</th>\n",
              "      <th>Air India</th>\n",
              "      <th>GoAir</th>\n",
              "      <th>IndiGo</th>\n",
              "      <th>Jet Airways</th>\n",
              "      <th>Jet Airways Business</th>\n",
              "      <th>Multiple carriers</th>\n",
              "      <th>Multiple carriers Premium economy</th>\n",
              "      <th>SpiceJet</th>\n",
              "      <th>Trujet</th>\n",
              "      <th>Vistara</th>\n",
              "      <th>...</th>\n",
              "      <th>Kolkata</th>\n",
              "      <th>Mumbai</th>\n",
              "      <th>Cochin</th>\n",
              "      <th>Delhi</th>\n",
              "      <th>Hyderabad</th>\n",
              "      <th>Kolkata</th>\n",
              "      <th>New Delhi</th>\n",
              "      <th>Price</th>\n",
              "      <th>journey_day</th>\n",
              "      <th>journey_month</th>\n",
              "      <th>Dep_Time_hour</th>\n",
              "      <th>Dep_Time_min</th>\n",
              "      <th>Arrival_Time_hour</th>\n",
              "      <th>Arrival_Time_min</th>\n",
              "      <th>Dur_Hour</th>\n",
              "      <th>Dur_Min</th>\n",
              "    </tr>\n",
              "  </thead>\n",
              "  <tbody>\n",
              "    <tr>\n",
              "      <th>0</th>\n",
              "      <td>0</td>\n",
              "      <td>0</td>\n",
              "      <td>13</td>\n",
              "      <td>29</td>\n",
              "      <td>13</td>\n",
              "      <td>5</td>\n",
              "      <td>0</td>\n",
              "      <td>0</td>\n",
              "      <td>1</td>\n",
              "      <td>0</td>\n",
              "      <td>0</td>\n",
              "      <td>0</td>\n",
              "      <td>0</td>\n",
              "      <td>0</td>\n",
              "      <td>0</td>\n",
              "      <td>0</td>\n",
              "      <td>...</td>\n",
              "      <td>0</td>\n",
              "      <td>0</td>\n",
              "      <td>0</td>\n",
              "      <td>0</td>\n",
              "      <td>0</td>\n",
              "      <td>0</td>\n",
              "      <td>1</td>\n",
              "      <td>3897</td>\n",
              "      <td>24</td>\n",
              "      <td>3</td>\n",
              "      <td>22</td>\n",
              "      <td>20</td>\n",
              "      <td>1</td>\n",
              "      <td>10</td>\n",
              "      <td>2</td>\n",
              "      <td>50</td>\n",
              "    </tr>\n",
              "    <tr>\n",
              "      <th>1</th>\n",
              "      <td>2</td>\n",
              "      <td>2</td>\n",
              "      <td>25</td>\n",
              "      <td>1</td>\n",
              "      <td>3</td>\n",
              "      <td>5</td>\n",
              "      <td>1</td>\n",
              "      <td>0</td>\n",
              "      <td>0</td>\n",
              "      <td>0</td>\n",
              "      <td>0</td>\n",
              "      <td>0</td>\n",
              "      <td>0</td>\n",
              "      <td>0</td>\n",
              "      <td>0</td>\n",
              "      <td>0</td>\n",
              "      <td>...</td>\n",
              "      <td>1</td>\n",
              "      <td>0</td>\n",
              "      <td>0</td>\n",
              "      <td>0</td>\n",
              "      <td>0</td>\n",
              "      <td>0</td>\n",
              "      <td>0</td>\n",
              "      <td>7662</td>\n",
              "      <td>5</td>\n",
              "      <td>1</td>\n",
              "      <td>5</td>\n",
              "      <td>50</td>\n",
              "      <td>13</td>\n",
              "      <td>15</td>\n",
              "      <td>7</td>\n",
              "      <td>25</td>\n",
              "    </tr>\n",
              "    <tr>\n",
              "      <th>2</th>\n",
              "      <td>2</td>\n",
              "      <td>3</td>\n",
              "      <td>32</td>\n",
              "      <td>4</td>\n",
              "      <td>5</td>\n",
              "      <td>5</td>\n",
              "      <td>0</td>\n",
              "      <td>0</td>\n",
              "      <td>0</td>\n",
              "      <td>1</td>\n",
              "      <td>0</td>\n",
              "      <td>0</td>\n",
              "      <td>0</td>\n",
              "      <td>0</td>\n",
              "      <td>0</td>\n",
              "      <td>0</td>\n",
              "      <td>...</td>\n",
              "      <td>0</td>\n",
              "      <td>0</td>\n",
              "      <td>1</td>\n",
              "      <td>0</td>\n",
              "      <td>0</td>\n",
              "      <td>0</td>\n",
              "      <td>0</td>\n",
              "      <td>13882</td>\n",
              "      <td>6</td>\n",
              "      <td>9</td>\n",
              "      <td>9</td>\n",
              "      <td>25</td>\n",
              "      <td>4</td>\n",
              "      <td>25</td>\n",
              "      <td>19</td>\n",
              "      <td>0</td>\n",
              "    </tr>\n",
              "    <tr>\n",
              "      <th>3</th>\n",
              "      <td>1</td>\n",
              "      <td>2</td>\n",
              "      <td>34</td>\n",
              "      <td>3</td>\n",
              "      <td>13</td>\n",
              "      <td>5</td>\n",
              "      <td>0</td>\n",
              "      <td>0</td>\n",
              "      <td>1</td>\n",
              "      <td>0</td>\n",
              "      <td>0</td>\n",
              "      <td>0</td>\n",
              "      <td>0</td>\n",
              "      <td>0</td>\n",
              "      <td>0</td>\n",
              "      <td>0</td>\n",
              "      <td>...</td>\n",
              "      <td>1</td>\n",
              "      <td>0</td>\n",
              "      <td>0</td>\n",
              "      <td>0</td>\n",
              "      <td>0</td>\n",
              "      <td>0</td>\n",
              "      <td>0</td>\n",
              "      <td>6218</td>\n",
              "      <td>5</td>\n",
              "      <td>12</td>\n",
              "      <td>18</td>\n",
              "      <td>5</td>\n",
              "      <td>23</td>\n",
              "      <td>30</td>\n",
              "      <td>5</td>\n",
              "      <td>25</td>\n",
              "    </tr>\n",
              "    <tr>\n",
              "      <th>4</th>\n",
              "      <td>1</td>\n",
              "      <td>0</td>\n",
              "      <td>34</td>\n",
              "      <td>8</td>\n",
              "      <td>13</td>\n",
              "      <td>5</td>\n",
              "      <td>0</td>\n",
              "      <td>0</td>\n",
              "      <td>1</td>\n",
              "      <td>0</td>\n",
              "      <td>0</td>\n",
              "      <td>0</td>\n",
              "      <td>0</td>\n",
              "      <td>0</td>\n",
              "      <td>0</td>\n",
              "      <td>0</td>\n",
              "      <td>...</td>\n",
              "      <td>0</td>\n",
              "      <td>0</td>\n",
              "      <td>0</td>\n",
              "      <td>0</td>\n",
              "      <td>0</td>\n",
              "      <td>0</td>\n",
              "      <td>1</td>\n",
              "      <td>13302</td>\n",
              "      <td>3</td>\n",
              "      <td>1</td>\n",
              "      <td>16</td>\n",
              "      <td>50</td>\n",
              "      <td>21</td>\n",
              "      <td>35</td>\n",
              "      <td>4</td>\n",
              "      <td>45</td>\n",
              "    </tr>\n",
              "  </tbody>\n",
              "</table>\n",
              "<p>5 rows × 35 columns</p>\n",
              "</div>"
            ],
            "text/plain": [
              "   Total_Stops  Route1  Route2  Route3  Route4  Route5  Air India  GoAir  \\\n",
              "0            0       0      13      29      13       5          0      0   \n",
              "1            2       2      25       1       3       5          1      0   \n",
              "2            2       3      32       4       5       5          0      0   \n",
              "3            1       2      34       3      13       5          0      0   \n",
              "4            1       0      34       8      13       5          0      0   \n",
              "\n",
              "   IndiGo  Jet Airways  Jet Airways Business  Multiple carriers  \\\n",
              "0       1            0                     0                  0   \n",
              "1       0            0                     0                  0   \n",
              "2       0            1                     0                  0   \n",
              "3       1            0                     0                  0   \n",
              "4       1            0                     0                  0   \n",
              "\n",
              "   Multiple carriers Premium economy  SpiceJet  Trujet  Vistara  ...  Kolkata  \\\n",
              "0                                  0         0       0        0  ...        0   \n",
              "1                                  0         0       0        0  ...        1   \n",
              "2                                  0         0       0        0  ...        0   \n",
              "3                                  0         0       0        0  ...        1   \n",
              "4                                  0         0       0        0  ...        0   \n",
              "\n",
              "   Mumbai  Cochin  Delhi  Hyderabad  Kolkata  New Delhi  Price  journey_day  \\\n",
              "0       0       0      0          0        0          1   3897           24   \n",
              "1       0       0      0          0        0          0   7662            5   \n",
              "2       0       1      0          0        0          0  13882            6   \n",
              "3       0       0      0          0        0          0   6218            5   \n",
              "4       0       0      0          0        0          1  13302            3   \n",
              "\n",
              "   journey_month  Dep_Time_hour  Dep_Time_min  Arrival_Time_hour  \\\n",
              "0              3             22            20                  1   \n",
              "1              1              5            50                 13   \n",
              "2              9              9            25                  4   \n",
              "3             12             18             5                 23   \n",
              "4              1             16            50                 21   \n",
              "\n",
              "   Arrival_Time_min  Dur_Hour  Dur_Min  \n",
              "0                10         2       50  \n",
              "1                15         7       25  \n",
              "2                25        19        0  \n",
              "3                30         5       25  \n",
              "4                35         4       45  \n",
              "\n",
              "[5 rows x 35 columns]"
            ]
          },
          "execution_count": 68,
          "metadata": {},
          "output_type": "execute_result"
        }
      ],
      "source": [
        "pd.set_option('display.max_columns',33)\n",
        "final_df.head()"
      ]
    },
    {
      "cell_type": "markdown",
      "id": "21540114",
      "metadata": {
        "id": "21540114"
      },
      "source": [
        "### Check For Outliers"
      ]
    },
    {
      "cell_type": "code",
      "execution_count": null,
      "id": "bcb25b5e",
      "metadata": {
        "id": "bcb25b5e"
      },
      "outputs": [],
      "source": [
        "def plot(data,col):\n",
        "    fig,(ax1,ax2)=plt.subplots(2,1)\n",
        "    sns.distplot(data[col],ax=ax1)\n",
        "    sns.boxplot(data[col],ax=ax2)"
      ]
    },
    {
      "cell_type": "code",
      "execution_count": null,
      "id": "70567105",
      "metadata": {
        "id": "70567105",
        "outputId": "1da947c1-6d93-4b76-edd2-cffc83f5f42a"
      },
      "outputs": [
        {
          "data": {
            "image/png": "[encoded data removed]",
            "text/plain": [
              "<Figure size 640x480 with 2 Axes>"
            ]
          },
          "metadata": {},
          "output_type": "display_data"
        }
      ],
      "source": [
        "plot(final_df,'Price')"
      ]
    },
    {
      "cell_type": "markdown",
      "id": "ffb3cc4b",
      "metadata": {
        "id": "ffb3cc4b"
      },
      "source": [
        "### Seprate the dataset in X and Y columns"
      ]
    },
    {
      "cell_type": "code",
      "execution_count": null,
      "id": "a10553f1",
      "metadata": {
        "id": "a10553f1"
      },
      "outputs": [],
      "source": [
        "X=final_df.drop('Price',axis=1)\n",
        "y=df['Price']"
      ]
    },
    {
      "cell_type": "markdown",
      "id": "c99558b6",
      "metadata": {
        "id": "c99558b6"
      },
      "source": [
        "### Feature Selection\n",
        "It is about finding the best feature and having good relation with independent variable\n",
        "Issue of dimensionality reduction reduces.\n",
        "\n",
        "For this we use mutual_info_classif"
      ]
    },
    {
      "cell_type": "code",
      "execution_count": null,
      "id": "159286c8",
      "metadata": {
        "id": "159286c8"
      },
      "outputs": [],
      "source": [
        "from sklearn.feature_selection import mutual_info_classif"
      ]
    },
    {
      "cell_type": "code",
      "execution_count": null,
      "id": "722a0695",
      "metadata": {
        "id": "722a0695",
        "outputId": "97c40bf2-4efa-42b8-dd9d-7ffed0fe780b"
      },
      "outputs": [
        {
          "data": {
            "text/plain": [
              "array([2.14424058, 2.01559982, 2.79081067, 2.2797435 , 1.45366754,\n",
              "       0.72655317, 0.78886048, 0.11061071, 0.67854973, 0.93721197,\n",
              "       0.        , 0.57191854, 0.        , 0.31725817, 0.01920124,\n",
              "       0.21792462, 0.        , 0.15306922, 1.58944342, 0.89464939,\n",
              "       0.292096  , 1.52646486, 0.4063813 , 0.28456761, 0.15233893,\n",
              "       0.37305181, 1.08436954, 0.84364223, 1.41008711, 1.19923234,\n",
              "       1.86626474, 1.54521546, 1.78022721, 1.04359252])"
            ]
          },
          "execution_count": 73,
          "metadata": {},
          "output_type": "execute_result"
        }
      ],
      "source": [
        "mutual_info_classif(X,y)"
      ]
    },
    {
      "cell_type": "code",
      "execution_count": null,
      "id": "43d89db2",
      "metadata": {
        "id": "43d89db2",
        "outputId": "a97f2e62-574f-4701-e44c-d219680cc277"
      },
      "outputs": [
        {
          "data": {
            "text/html": [
              "<div>\n",
              "<style scoped>\n",
              "    .dataframe tbody tr th:only-of-type {\n",
              "        vertical-align: middle;\n",
              "    }\n",
              "\n",
              "    .dataframe tbody tr th {\n",
              "        vertical-align: top;\n",
              "    }\n",
              "\n",
              "    .dataframe thead th {\n",
              "        text-align: right;\n",
              "    }\n",
              "</style>\n",
              "<table border=\"1\" class=\"dataframe\">\n",
              "  <thead>\n",
              "    <tr style=\"text-align: right;\">\n",
              "      <th></th>\n",
              "      <th>0</th>\n",
              "    </tr>\n",
              "  </thead>\n",
              "  <tbody>\n",
              "    <tr>\n",
              "      <th>Total_Stops</th>\n",
              "      <td>2.168457</td>\n",
              "    </tr>\n",
              "    <tr>\n",
              "      <th>Route1</th>\n",
              "      <td>2.062044</td>\n",
              "    </tr>\n",
              "    <tr>\n",
              "      <th>Route2</th>\n",
              "      <td>2.786770</td>\n",
              "    </tr>\n",
              "    <tr>\n",
              "      <th>Route3</th>\n",
              "      <td>2.316042</td>\n",
              "    </tr>\n",
              "    <tr>\n",
              "      <th>Route4</th>\n",
              "      <td>1.486533</td>\n",
              "    </tr>\n",
              "    <tr>\n",
              "      <th>Route5</th>\n",
              "      <td>0.662047</td>\n",
              "    </tr>\n",
              "    <tr>\n",
              "      <th>Air India</th>\n",
              "      <td>0.774554</td>\n",
              "    </tr>\n",
              "    <tr>\n",
              "      <th>GoAir</th>\n",
              "      <td>0.094929</td>\n",
              "    </tr>\n",
              "    <tr>\n",
              "      <th>IndiGo</th>\n",
              "      <td>0.667666</td>\n",
              "    </tr>\n",
              "    <tr>\n",
              "      <th>Jet Airways</th>\n",
              "      <td>0.936492</td>\n",
              "    </tr>\n",
              "    <tr>\n",
              "      <th>Jet Airways Business</th>\n",
              "      <td>0.000000</td>\n",
              "    </tr>\n",
              "    <tr>\n",
              "      <th>Multiple carriers</th>\n",
              "      <td>0.561251</td>\n",
              "    </tr>\n",
              "    <tr>\n",
              "      <th>Multiple carriers Premium economy</th>\n",
              "      <td>0.026586</td>\n",
              "    </tr>\n",
              "    <tr>\n",
              "      <th>SpiceJet</th>\n",
              "      <td>0.317625</td>\n",
              "    </tr>\n",
              "    <tr>\n",
              "      <th>Trujet</th>\n",
              "      <td>0.012899</td>\n",
              "    </tr>\n",
              "    <tr>\n",
              "      <th>Vistara</th>\n",
              "      <td>0.238636</td>\n",
              "    </tr>\n",
              "    <tr>\n",
              "      <th>Vistara Premium economy</th>\n",
              "      <td>0.000000</td>\n",
              "    </tr>\n",
              "    <tr>\n",
              "      <th>Chennai</th>\n",
              "      <td>0.156882</td>\n",
              "    </tr>\n",
              "    <tr>\n",
              "      <th>Delhi</th>\n",
              "      <td>1.552752</td>\n",
              "    </tr>\n",
              "    <tr>\n",
              "      <th>Kolkata</th>\n",
              "      <td>0.880469</td>\n",
              "    </tr>\n",
              "    <tr>\n",
              "      <th>Mumbai</th>\n",
              "      <td>0.283826</td>\n",
              "    </tr>\n",
              "    <tr>\n",
              "      <th>Cochin</th>\n",
              "      <td>1.567208</td>\n",
              "    </tr>\n",
              "    <tr>\n",
              "      <th>Delhi</th>\n",
              "      <td>0.389962</td>\n",
              "    </tr>\n",
              "    <tr>\n",
              "      <th>Hyderabad</th>\n",
              "      <td>0.284094</td>\n",
              "    </tr>\n",
              "    <tr>\n",
              "      <th>Kolkata</th>\n",
              "      <td>0.163186</td>\n",
              "    </tr>\n",
              "    <tr>\n",
              "      <th>New Delhi</th>\n",
              "      <td>0.392578</td>\n",
              "    </tr>\n",
              "    <tr>\n",
              "      <th>journey_day</th>\n",
              "      <td>1.093395</td>\n",
              "    </tr>\n",
              "    <tr>\n",
              "      <th>journey_month</th>\n",
              "      <td>0.862001</td>\n",
              "    </tr>\n",
              "    <tr>\n",
              "      <th>Dep_Time_hour</th>\n",
              "      <td>1.418041</td>\n",
              "    </tr>\n",
              "    <tr>\n",
              "      <th>Dep_Time_min</th>\n",
              "      <td>1.210092</td>\n",
              "    </tr>\n",
              "    <tr>\n",
              "      <th>Arrival_Time_hour</th>\n",
              "      <td>1.858273</td>\n",
              "    </tr>\n",
              "    <tr>\n",
              "      <th>Arrival_Time_min</th>\n",
              "      <td>1.540062</td>\n",
              "    </tr>\n",
              "    <tr>\n",
              "      <th>Dur_Hour</th>\n",
              "      <td>1.788622</td>\n",
              "    </tr>\n",
              "    <tr>\n",
              "      <th>Dur_Min</th>\n",
              "      <td>1.073592</td>\n",
              "    </tr>\n",
              "  </tbody>\n",
              "</table>\n",
              "</div>"
            ],
            "text/plain": [
              "                                          0\n",
              "Total_Stops                        2.168457\n",
              "Route1                             2.062044\n",
              "Route2                             2.786770\n",
              "Route3                             2.316042\n",
              "Route4                             1.486533\n",
              "Route5                             0.662047\n",
              "Air India                          0.774554\n",
              "GoAir                              0.094929\n",
              "IndiGo                             0.667666\n",
              "Jet Airways                        0.936492\n",
              "Jet Airways Business               0.000000\n",
              "Multiple carriers                  0.561251\n",
              "Multiple carriers Premium economy  0.026586\n",
              "SpiceJet                           0.317625\n",
              "Trujet                             0.012899\n",
              "Vistara                            0.238636\n",
              "Vistara Premium economy            0.000000\n",
              "Chennai                            0.156882\n",
              "Delhi                              1.552752\n",
              "Kolkata                            0.880469\n",
              "Mumbai                             0.283826\n",
              "Cochin                             1.567208\n",
              "Delhi                              0.389962\n",
              "Hyderabad                          0.284094\n",
              "Kolkata                            0.163186\n",
              "New Delhi                          0.392578\n",
              "journey_day                        1.093395\n",
              "journey_month                      0.862001\n",
              "Dep_Time_hour                      1.418041\n",
              "Dep_Time_min                       1.210092\n",
              "Arrival_Time_hour                  1.858273\n",
              "Arrival_Time_min                   1.540062\n",
              "Dur_Hour                           1.788622\n",
              "Dur_Min                            1.073592"
            ]
          },
          "execution_count": 74,
          "metadata": {},
          "output_type": "execute_result"
        }
      ],
      "source": [
        "imp = pd.DataFrame(mutual_info_classif(X,y),index=X.columns)\n",
        "imp"
      ]
    },
    {
      "cell_type": "code",
      "execution_count": null,
      "id": "f05e0033",
      "metadata": {
        "id": "f05e0033",
        "outputId": "0b8d6043-3887-44ff-97b5-8ebf18d82ac4"
      },
      "outputs": [
        {
          "data": {
            "text/html": [
              "<div>\n",
              "<style scoped>\n",
              "    .dataframe tbody tr th:only-of-type {\n",
              "        vertical-align: middle;\n",
              "    }\n",
              "\n",
              "    .dataframe tbody tr th {\n",
              "        vertical-align: top;\n",
              "    }\n",
              "\n",
              "    .dataframe thead th {\n",
              "        text-align: right;\n",
              "    }\n",
              "</style>\n",
              "<table border=\"1\" class=\"dataframe\">\n",
              "  <thead>\n",
              "    <tr style=\"text-align: right;\">\n",
              "      <th></th>\n",
              "      <th>importance</th>\n",
              "    </tr>\n",
              "  </thead>\n",
              "  <tbody>\n",
              "    <tr>\n",
              "      <th>Route2</th>\n",
              "      <td>2.786770</td>\n",
              "    </tr>\n",
              "    <tr>\n",
              "      <th>Route3</th>\n",
              "      <td>2.316042</td>\n",
              "    </tr>\n",
              "    <tr>\n",
              "      <th>Total_Stops</th>\n",
              "      <td>2.168457</td>\n",
              "    </tr>\n",
              "    <tr>\n",
              "      <th>Route1</th>\n",
              "      <td>2.062044</td>\n",
              "    </tr>\n",
              "    <tr>\n",
              "      <th>Arrival_Time_hour</th>\n",
              "      <td>1.858273</td>\n",
              "    </tr>\n",
              "    <tr>\n",
              "      <th>Dur_Hour</th>\n",
              "      <td>1.788622</td>\n",
              "    </tr>\n",
              "    <tr>\n",
              "      <th>Cochin</th>\n",
              "      <td>1.567208</td>\n",
              "    </tr>\n",
              "    <tr>\n",
              "      <th>Delhi</th>\n",
              "      <td>1.552752</td>\n",
              "    </tr>\n",
              "    <tr>\n",
              "      <th>Arrival_Time_min</th>\n",
              "      <td>1.540062</td>\n",
              "    </tr>\n",
              "    <tr>\n",
              "      <th>Route4</th>\n",
              "      <td>1.486533</td>\n",
              "    </tr>\n",
              "    <tr>\n",
              "      <th>Dep_Time_hour</th>\n",
              "      <td>1.418041</td>\n",
              "    </tr>\n",
              "    <tr>\n",
              "      <th>Dep_Time_min</th>\n",
              "      <td>1.210092</td>\n",
              "    </tr>\n",
              "    <tr>\n",
              "      <th>journey_day</th>\n",
              "      <td>1.093395</td>\n",
              "    </tr>\n",
              "    <tr>\n",
              "      <th>Dur_Min</th>\n",
              "      <td>1.073592</td>\n",
              "    </tr>\n",
              "    <tr>\n",
              "      <th>Jet Airways</th>\n",
              "      <td>0.936492</td>\n",
              "    </tr>\n",
              "    <tr>\n",
              "      <th>Kolkata</th>\n",
              "      <td>0.880469</td>\n",
              "    </tr>\n",
              "    <tr>\n",
              "      <th>journey_month</th>\n",
              "      <td>0.862001</td>\n",
              "    </tr>\n",
              "    <tr>\n",
              "      <th>Air India</th>\n",
              "      <td>0.774554</td>\n",
              "    </tr>\n",
              "    <tr>\n",
              "      <th>IndiGo</th>\n",
              "      <td>0.667666</td>\n",
              "    </tr>\n",
              "    <tr>\n",
              "      <th>Route5</th>\n",
              "      <td>0.662047</td>\n",
              "    </tr>\n",
              "    <tr>\n",
              "      <th>Multiple carriers</th>\n",
              "      <td>0.561251</td>\n",
              "    </tr>\n",
              "    <tr>\n",
              "      <th>New Delhi</th>\n",
              "      <td>0.392578</td>\n",
              "    </tr>\n",
              "    <tr>\n",
              "      <th>Delhi</th>\n",
              "      <td>0.389962</td>\n",
              "    </tr>\n",
              "    <tr>\n",
              "      <th>SpiceJet</th>\n",
              "      <td>0.317625</td>\n",
              "    </tr>\n",
              "    <tr>\n",
              "      <th>Hyderabad</th>\n",
              "      <td>0.284094</td>\n",
              "    </tr>\n",
              "    <tr>\n",
              "      <th>Mumbai</th>\n",
              "      <td>0.283826</td>\n",
              "    </tr>\n",
              "    <tr>\n",
              "      <th>Vistara</th>\n",
              "      <td>0.238636</td>\n",
              "    </tr>\n",
              "    <tr>\n",
              "      <th>Kolkata</th>\n",
              "      <td>0.163186</td>\n",
              "    </tr>\n",
              "    <tr>\n",
              "      <th>Chennai</th>\n",
              "      <td>0.156882</td>\n",
              "    </tr>\n",
              "    <tr>\n",
              "      <th>GoAir</th>\n",
              "      <td>0.094929</td>\n",
              "    </tr>\n",
              "    <tr>\n",
              "      <th>Multiple carriers Premium economy</th>\n",
              "      <td>0.026586</td>\n",
              "    </tr>\n",
              "    <tr>\n",
              "      <th>Trujet</th>\n",
              "      <td>0.012899</td>\n",
              "    </tr>\n",
              "    <tr>\n",
              "      <th>Jet Airways Business</th>\n",
              "      <td>0.000000</td>\n",
              "    </tr>\n",
              "    <tr>\n",
              "      <th>Vistara Premium economy</th>\n",
              "      <td>0.000000</td>\n",
              "    </tr>\n",
              "  </tbody>\n",
              "</table>\n",
              "</div>"
            ],
            "text/plain": [
              "                                   importance\n",
              "Route2                               2.786770\n",
              "Route3                               2.316042\n",
              "Total_Stops                          2.168457\n",
              "Route1                               2.062044\n",
              "Arrival_Time_hour                    1.858273\n",
              "Dur_Hour                             1.788622\n",
              "Cochin                               1.567208\n",
              "Delhi                                1.552752\n",
              "Arrival_Time_min                     1.540062\n",
              "Route4                               1.486533\n",
              "Dep_Time_hour                        1.418041\n",
              "Dep_Time_min                         1.210092\n",
              "journey_day                          1.093395\n",
              "Dur_Min                              1.073592\n",
              "Jet Airways                          0.936492\n",
              "Kolkata                              0.880469\n",
              "journey_month                        0.862001\n",
              "Air India                            0.774554\n",
              "IndiGo                               0.667666\n",
              "Route5                               0.662047\n",
              "Multiple carriers                    0.561251\n",
              "New Delhi                            0.392578\n",
              "Delhi                                0.389962\n",
              "SpiceJet                             0.317625\n",
              "Hyderabad                            0.284094\n",
              "Mumbai                               0.283826\n",
              "Vistara                              0.238636\n",
              "Kolkata                              0.163186\n",
              "Chennai                              0.156882\n",
              "GoAir                                0.094929\n",
              "Multiple carriers Premium economy    0.026586\n",
              "Trujet                               0.012899\n",
              "Jet Airways Business                 0.000000\n",
              "Vistara Premium economy              0.000000"
            ]
          },
          "execution_count": 75,
          "metadata": {},
          "output_type": "execute_result"
        }
      ],
      "source": [
        "imp.columns=['importance']\n",
        "imp.sort_values(by='importance',ascending=False)"
      ]
    },
    {
      "cell_type": "markdown",
      "id": "16cd3079",
      "metadata": {
        "id": "16cd3079"
      },
      "source": [
        "As we can see from the table, there are several features that have approx 0 value,so we should remove it after authorizing it.But for now,we are not removing it."
      ]
    },
    {
      "cell_type": "markdown",
      "id": "4dd470c1",
      "metadata": {
        "id": "4dd470c1"
      },
      "source": [
        "## Models"
      ]
    },
    {
      "cell_type": "code",
      "execution_count": null,
      "id": "57637eea",
      "metadata": {
        "id": "57637eea"
      },
      "outputs": [],
      "source": [
        "# spiliting the dataset\n",
        "from sklearn.model_selection import train_test_split\n",
        "X_train,X_test,y_train,y_test = train_test_split(X,y,test_size=0.20,random_state=123)"
      ]
    },
    {
      "cell_type": "code",
      "execution_count": null,
      "id": "eee69458",
      "metadata": {
        "id": "eee69458"
      },
      "outputs": [],
      "source": [
        "from sklearn.metrics import r2_score,mean_absolute_error,mean_squared_error\n",
        "def predict(ml_model):\n",
        "    print('Model is: {}'.format(ml_model))\n",
        "    model= ml_model.fit(X_train,y_train)\n",
        "    print(\"Training score: {}\".format(model.score(X_train,y_train)))\n",
        "    predictions = model.predict(X_test)\n",
        "    print(\"Predictions are: {}\".format(predictions))\n",
        "    print('\\n')\n",
        "    r2score=r2_score(y_test,predictions)\n",
        "    print(\"r2 score is: {}\".format(r2score))\n",
        "\n",
        "    print('MAE:{}'.format(mean_absolute_error(y_test,predictions)))\n",
        "    print('MSE:{}'.format(mean_squared_error(y_test,predictions)))\n",
        "    print('RMSE:{}'.format(np.sqrt(mean_squared_error(y_test,predictions))))\n",
        "\n",
        "    sns.distplot(y_test-predictions)"
      ]
    },
    {
      "cell_type": "code",
      "execution_count": null,
      "id": "1c15ea2b",
      "metadata": {
        "id": "1c15ea2b"
      },
      "outputs": [],
      "source": [
        "from sklearn.linear_model import LogisticRegression\n",
        "from sklearn.neighbors import KNeighborsRegressor\n",
        "from sklearn.tree import DecisionTreeRegressor\n",
        "from sklearn.ensemble import GradientBoostingRegressor,RandomForestRegressor"
      ]
    },
    {
      "cell_type": "code",
      "execution_count": null,
      "id": "5d28940e",
      "metadata": {
        "id": "5d28940e",
        "outputId": "16875459-f09c-4b48-eb93-64a709b81754"
      },
      "outputs": [
        {
          "name": "stdout",
          "output_type": "stream",
          "text": [
            "Model is: RandomForestRegressor()\n",
            "Training score: 0.9518913767375308\n",
            "Predictions are: [ 8592.81       16899.51666667 14216.585      ...  3859.4\n",
            "  5560.49       10516.0525    ]\n",
            "\n",
            "\n",
            "r2 score is: 0.8389885575039975\n",
            "MAE:1089.576880440544\n",
            "MSE:3100384.4192623314\n",
            "RMSE:1760.7908505164182\n"
          ]
        },
        {
          "data": {
            "image/png": "[encoded data removed]",
            "text/plain": [
              "<Figure size 640x480 with 1 Axes>"
            ]
          },
          "metadata": {},
          "output_type": "display_data"
        }
      ],
      "source": [
        "predict(RandomForestRegressor())"
      ]
    },
    {
      "cell_type": "markdown",
      "id": "a9427095",
      "metadata": {
        "id": "a9427095"
      },
      "source": [
        "### From the graph,it is clear that we predicted 84% correctly."
      ]
    },
    {
      "cell_type": "code",
      "execution_count": null,
      "id": "d039456d",
      "metadata": {
        "id": "d039456d",
        "outputId": "c32e9bfc-f98f-47b8-a1c1-a86d8042b5db"
      },
      "outputs": [
        {
          "name": "stdout",
          "output_type": "stream",
          "text": [
            "Model is: LogisticRegression()\n",
            "Training score: 0.3356348741954359\n",
            "Predictions are: [14571 15237 10844 ...  4226  7408 10262]\n",
            "\n",
            "\n",
            "r2 score is: 0.44215816344012093\n",
            "MAE:1873.8647636874123\n",
            "MSE:10741622.531118391\n",
            "RMSE:3277.4414611276266\n"
          ]
        },
        {
          "data": {
            "image/png": "[encoded data removed]",
            "text/plain": [
              "<Figure size 640x480 with 1 Axes>"
            ]
          },
          "metadata": {},
          "output_type": "display_data"
        }
      ],
      "source": [
        "predict(LogisticRegression())"
      ]
    },
    {
      "cell_type": "code",
      "execution_count": null,
      "id": "1200913f",
      "metadata": {
        "id": "1200913f",
        "outputId": "251dd973-ff20-4579-8b80-fad96930df3b"
      },
      "outputs": [
        {
          "name": "stdout",
          "output_type": "stream",
          "text": [
            "Model is: KNeighborsRegressor()\n",
            "Training score: 0.746380546942052\n",
            "Predictions are: [10401.2 16362.4 12933.2 ...  4210.   9073.  11232.4]\n",
            "\n",
            "\n",
            "r2 score is: 0.6544658783016435\n",
            "MAE:1700.4507253158633\n",
            "MSE:6653493.631445953\n",
            "RMSE:2579.436688784191\n"
          ]
        },
        {
          "data": {
            "image/png": "[encoded data removed]",
            "text/plain": [
              "<Figure size 640x480 with 1 Axes>"
            ]
          },
          "metadata": {},
          "output_type": "display_data"
        }
      ],
      "source": [
        "predict(KNeighborsRegressor())"
      ]
    },
    {
      "cell_type": "code",
      "execution_count": null,
      "id": "7d9461ad",
      "metadata": {
        "id": "7d9461ad",
        "outputId": "3d67dda9-0787-4ed9-9e17-d16fc24f642f"
      },
      "outputs": [
        {
          "name": "stdout",
          "output_type": "stream",
          "text": [
            "Model is: DecisionTreeRegressor()\n",
            "Training score: 0.9701124435927416\n",
            "Predictions are: [ 8996. 18550. 14571. ...  3943.  5054. 10262.]\n",
            "\n",
            "\n",
            "r2 score is: 0.750841869794291\n",
            "MAE:1242.1233036967712\n",
            "MSE:4797708.615283627\n",
            "RMSE:2190.3672329734177\n"
          ]
        },
        {
          "data": {
            "image/png": "[encoded data removed]",
            "text/plain": [
              "<Figure size 640x480 with 1 Axes>"
            ]
          },
          "metadata": {},
          "output_type": "display_data"
        }
      ],
      "source": [
        "predict(DecisionTreeRegressor())"
      ]
    },
    {
      "cell_type": "code",
      "execution_count": null,
      "id": "821226c7",
      "metadata": {
        "id": "821226c7",
        "outputId": "13781d47-4016-4f68-9805-542f0d5bbb55"
      },
      "outputs": [
        {
          "name": "stdout",
          "output_type": "stream",
          "text": [
            "Model is: SVR()\n",
            "Training score: 0.036808067930953814\n",
            "Predictions are: [8527.74272429 8268.96331405 8459.17514562 ... 8292.53786893 8453.81861376\n",
            " 8538.60587913]\n",
            "\n",
            "\n",
            "r2 score is: 0.05252926427324878\n",
            "MAE:3327.7462262427184\n",
            "MSE:18244190.9793285\n",
            "RMSE:4271.321924103649\n"
          ]
        },
        {
          "data": {
            "image/png": "[encoded data removed]",
            "text/plain": [
              "<Figure size 640x480 with 1 Axes>"
            ]
          },
          "metadata": {},
          "output_type": "display_data"
        }
      ],
      "source": [
        "from sklearn.svm import SVR\n",
        "predict(SVR())"
      ]
    },
    {
      "cell_type": "code",
      "execution_count": null,
      "id": "29511de8",
      "metadata": {
        "id": "29511de8",
        "outputId": "8169396d-30a0-4f85-f611-1cbba22df8a0"
      },
      "outputs": [
        {
          "name": "stdout",
          "output_type": "stream",
          "text": [
            "Model is: GradientBoostingRegressor()\n",
            "Training score: 0.8004872305794601\n",
            "Predictions are: [ 5702.86974497 17826.76035345 12133.74946613 ...  4547.37535805\n",
            "  6959.32889786 11428.58468176]\n",
            "\n",
            "\n",
            "r2 score is: 0.8168082740055781\n",
            "MAE:1397.3926769289378\n",
            "MSE:3527480.8063717647\n",
            "RMSE:1878.1588874138856\n"
          ]
        },
        {
          "data": {
            "image/png": "[encoded data removed]",
            "text/plain": [
              "<Figure size 640x480 with 1 Axes>"
            ]
          },
          "metadata": {},
          "output_type": "display_data"
        }
      ],
      "source": [
        "predict(GradientBoostingRegressor())"
      ]
    },
    {
      "cell_type": "markdown",
      "id": "27b459ea",
      "metadata": {
        "id": "27b459ea"
      },
      "source": [
        "### Hypertunning the model"
      ]
    },
    {
      "cell_type": "code",
      "execution_count": null,
      "id": "0d8a38a2",
      "metadata": {
        "id": "0d8a38a2"
      },
      "outputs": [],
      "source": [
        "from sklearn.model_selection import RandomizedSearchCV"
      ]
    },
    {
      "cell_type": "code",
      "execution_count": null,
      "id": "9b5b7ea3",
      "metadata": {
        "id": "9b5b7ea3"
      },
      "outputs": [],
      "source": [
        "random_grid = {\n",
        "    'n_estimators' : [100, 120, 150, 180, 200,220],\n",
        "    'max_features':['auto','sqrt'],\n",
        "    'max_depth':[5,10,15,20],\n",
        "    }"
      ]
    },
    {
      "cell_type": "code",
      "execution_count": null,
      "id": "c742b7c8",
      "metadata": {
        "id": "c742b7c8",
        "outputId": "fa02ff8a-c2c8-413b-e6fb-443d41b8fe2e"
      },
      "outputs": [
        {
          "name": "stdout",
          "output_type": "stream",
          "text": [
            "Fitting 3 folds for each of 10 candidates, totalling 30 fits\n"
          ]
        },
        {
          "data": {
            "text/plain": [
              "{'n_estimators': 200, 'max_features': 'auto', 'max_depth': 10}"
            ]
          },
          "execution_count": 87,
          "metadata": {},
          "output_type": "execute_result"
        }
      ],
      "source": [
        "rf=RandomForestRegressor()\n",
        "rf_random=RandomizedSearchCV(estimator=rf,param_distributions=random_grid,cv=3,verbose=2,n_jobs=-1,)\n",
        "\n",
        "rf_random.fit(X_train,y_train)\n",
        "\n",
        "# best parameter\n",
        "rf_random.best_params_"
      ]
    },
    {
      "cell_type": "code",
      "execution_count": null,
      "id": "67196644",
      "metadata": {
        "id": "67196644",
        "outputId": "ca666355-2534-4218-f6fc-454f27ffa951"
      },
      "outputs": [
        {
          "data": {
            "text/plain": [
              "{'n_estimators': 200, 'max_features': 'auto', 'max_depth': 10}"
            ]
          },
          "execution_count": 88,
          "metadata": {},
          "output_type": "execute_result"
        }
      ],
      "source": [
        "# best parameter\n",
        "rf_random.best_params_"
      ]
    },
    {
      "cell_type": "code",
      "execution_count": null,
      "id": "15e08708",
      "metadata": {
        "id": "15e08708",
        "outputId": "1858162b-f752-4e30-de3a-bf133b583c9d"
      },
      "outputs": [
        {
          "data": {
            "text/plain": [
              "<seaborn.axisgrid.FacetGrid at 0x22880083370>"
            ]
          },
          "execution_count": 89,
          "metadata": {},
          "output_type": "execute_result"
        },
        {
          "data": {
            "image/png": "[encoded data removed]",
            "text/plain": [
              "<Figure size 500x500 with 1 Axes>"
            ]
          },
          "metadata": {},
          "output_type": "display_data"
        }
      ],
      "source": [
        "#predicting the values\n",
        "prediction = rf_random.predict(X_test)\n",
        "\n",
        "#distribution plot between actual value and predicted value\n",
        "sns.displot(y_test-prediction)"
      ]
    },
    {
      "cell_type": "code",
      "execution_count": null,
      "id": "e1f7af8a",
      "metadata": {
        "id": "e1f7af8a",
        "outputId": "a73b7aae-ea0b-4465-9fc8-2265922eafbc"
      },
      "outputs": [
        {
          "data": {
            "text/plain": [
              "0.8624841410068227"
            ]
          },
          "execution_count": 90,
          "metadata": {},
          "output_type": "execute_result"
        }
      ],
      "source": [
        "r2_score(y_test,prediction)"
      ]
    },
    {
      "cell_type": "code",
      "execution_count": null,
      "id": "f66b184e",
      "metadata": {
        "id": "f66b184e"
      },
      "outputs": [],
      "source": []
    }
  ],
  "metadata": {
    "kernelspec": {
      "display_name": "Python 3 (ipykernel)",
      "language": "python",
      "name": "python3"
    },
    "language_info": {
      "codemirror_mode": {
        "name": "ipython",
        "version": 3
      },
      "file_extension": ".py",
      "mimetype": "text/x-python",
      "name": "python",
      "nbconvert_exporter": "python",
      "pygments_lexer": "ipython3",
      "version": "3.9.15"
    },
    "colab": {
      "provenance": [],
      "include_colab_link": true
    }
  },
  "nbformat": 4,
  "nbformat_minor": 5
}